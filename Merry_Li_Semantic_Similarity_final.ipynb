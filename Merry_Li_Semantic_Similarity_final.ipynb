{
  "cells": [
    {
      "cell_type": "markdown",
      "metadata": {
        "id": "KzrJSKcMAReV"
      },
      "source": [
        "# Student Presentation: Semantic Similarity Analysis for Aeon essays for Genre Classifications\n"
      ]
    },
    {
      "cell_type": "markdown",
      "metadata": {},
      "source": [
        "*Disclaimer: ChatGPT and Github Copilot are used in proofreading contents, generating and debugging codes, generating statistical analysis in this assignment.*\n"
      ]
    },
    {
      "cell_type": "markdown",
      "metadata": {},
      "source": [
        "## Introduction\n"
      ]
    },
    {
      "cell_type": "markdown",
      "metadata": {},
      "source": [
        "\n",
        "*Aeon* magazine (https://aeon.co/), launched in 2012, is a digital magazine renowned for its commitment to deep, thought-provoking contents in the broad realms of humanitics and social subjects, appealing to an audience that values comprehensive analysis and original insights on various topics. While the website also contains audio and video formats, most of *Aeon*'s contents are published through its signature *Essay* format—longform argumentative pieces ranging from 2,500 to 5,000 words. Each Essay provides an in-depth discussion into a particular issue with academic language. According to the *Aeon* website, all Essays are meticulously crafted through an intensive editing process, during which they are fact-checked and copyedited across 3 to 5 drafts over a three-month period to ensure the highest quality. As a regular reader of *Aeon*, the unique linguistic style of these Essays has capture my research interests.\n",
        "\n",
        "Due to the variety of the topics covered by these Essays, all contents on Aeon website is categorized into a three layered structure: each Essay will be classified into a specific subtopic, which is further organized into five main disciplines: Philosophy, Psychology, Society, Science, and Culture. For example, an Essay titled \"The new architecture wars\" is categorized into the subtopic of \"architecture\", which belongs to the genre of Culture. On the Aeon website, one can find information about the complete lists of subtopics that belong to each genre. \n"
      ]
    },
    {
      "cell_type": "markdown",
      "metadata": {},
      "source": [
        "### Semantic Similarity and Text Classification\n",
        "\n",
        "**Semantic similarity** analysis in spaCy refers to the process of determining the similarity between two pieces of text by comparing the word vectors or \"word embeddings\" of their tokens. \n",
        "\n",
        "**Word embeddings** are unique multi-dimensional mathematic representations of words, capturing their meanings, syntactic properties, and relationships with other words. These embeddings are learned from large datasets of text and can encode various linguistic patterns and semantic relationships. When performing semantic similarity analysis, spaCy typically averages the vectors of all tokens in each document or text span to produce a document vector. The similarity between any two texts is then calculated using the cosine similarity between their respective document vectors.\n",
        "\n",
        "Semantic Similarity comparisons have been widely used for automatic genre classification of textual materials. The use of semantic similarity in text classification has been explored by Zhang (2013), who found that it can improve the performance of dimension-sensitive learning algorithms. Asheghi (2015) further discusses the challenges of genre classification, particularly in web genres, and proposes a method for automatic genre classification using a combination of supervised and semi-supervised machine learning. Nauer (2006) presents an approach for classifying documents based on semantic similarity, using annotated content represented by a labeled tree and a reasoning process. Lee (2002) introduces a method for text genre classification based on statistically selected features from both subject-classified and genre-classified training data, which outperforms a direct application of a statistical learner. Overall, these studies highlight the potential of semantic similarity in improving genre classification, particularly in the context of web genres."
      ]
    },
    {
      "cell_type": "markdown",
      "metadata": {},
      "source": [
        "## Research Questions\n"
      ]
    },
    {
      "cell_type": "markdown",
      "metadata": {},
      "source": [
        "In the current research, I am interested in exploring the potential for automatically classifying the Essays through semantic similarity comparisons. \n",
        "\n",
        "Three research questions are addressed:\n",
        "\n",
        "### **1. What is the semantic similarity between the subtopics within/across genres?**\n",
        "\n",
        "Given that subtopics can be analyzed as meaningful phrases, I am interested in analyzing the semantic similarity for these phrases used for describing Essays. Many overlaps can be found between subtopics. For example, a subtopic named \"bioethics\" in the genre of Philosophy might have high similarity with the subtopic named \"biology\" in Science genre. High similarity scores across genres might also mediate the semantic similarity between Essay and genres.\n",
        "\n",
        "### **2. Can we establish a standard of identifying the genre that each essay belongs to by comparing the semantic similarity of these essays to the subtopic string for each genre?**\n",
        "\n",
        "In this context, subtopic string is defined as the string of the combination of all subtopics that belongs to each genre. Each genre will have its own subtopic string, which will be used as a basis of comparison for semantic similarity of all essays.\n",
        "\n",
        "\n",
        "### **3. Can semantic similarity scores, derived from comparing essays to aggregated genre descriptions within genres, effectively predict the genre of an essay, and how does the accuracy of this method compare across different genres?**\n",
        "\n",
        "This is addressed by model training through fitting a logistic regression to the dataset. I am interested in estbalishing a predicting model and its accuracy.\n",
        "\n"
      ]
    },
    {
      "cell_type": "markdown",
      "metadata": {},
      "source": [
        "\n",
        "### Hypothesis 1: Semantic Similarity Between Topics \n",
        "\n",
        "*   *H0*: The mean similarity scores between topics is not significantly different within and across genre\n",
        "*   *Ha*: The mean similarity scores between topics is significantly different within and across genre\n",
        "\n",
        "### Hypothesis 2: Semantic Similarity Between Essays and Genres\n",
        "\n",
        "*   *H0*: There is no significant differences in the mean semantic similarity scoring between different topics for each essay\n",
        "*   *Ha*: There are significant differences in the mean semantic similarity scoring between different topics for each essay. Specifically, an essay will have the highest similarity score for the genre that it is categorized with. \n",
        "\n",
        "### Hypothesis 3: Accuracy of Prediction Model\n",
        "*   *H0*: Prediction model will not be able to identify between topics with significant accuracy using semantic similarity scorings.\n",
        "*   *Ha*: Prediction model will be able to identify between topics with significant accuracy using semantic similarity scorings "
      ]
    },
    {
      "cell_type": "markdown",
      "metadata": {},
      "source": [
        "## Data"
      ]
    },
    {
      "cell_type": "markdown",
      "metadata": {
        "id": "-HpXq5nvF3Ym"
      },
      "source": [
        "### Dataset and Modifications\n"
      ]
    },
    {
      "cell_type": "markdown",
      "metadata": {},
      "source": [
        "The original dataset can be found on https://www.kaggle.com/datasets/mannacharya/aeon-essays-dataset. It contains over 2300 essays covering diverse topics and is directly scraped from the Aeon website. \n",
        "\n",
        "**Data Modification**: Two of the fields in the original dataset (source url of the essay and thumbnail image url) are excluded for convenience of analysis. While the original dataset does not contain information about the genre of each essay, the *Aeon* website lists out all the essay subtopics that belongs to one of the five topics. Thus, the title that each essay belongs to is manually encoded as the \"genre\" field of the dataset. Finally, the essay content will be lowercased and removed of stopwords, while will be stored in the \"cw_text\" column.\n",
        "\n",
        "The final dataset contains the following fields:\n",
        "\n",
        "* title: Subtopics of the Essay \n",
        "* description: A Brief Summary / Preview of the Essay\n",
        "* essay: Complete Essay Content\n",
        "* authors: Authors (separated by '&' if multiple)\n",
        "* genre: Genre that the Essay Belongs to (Philosophy, Science, Society, Psychology or Culture)\n",
        "* cw_text: Lowercased Essay Contents with Stopwords Removed\n",
        "* (genre_name)_similarity_score (x5): Five columns, Similarity Score for the given Genre for each Essay \n",
        "\n",
        "The dataset has a total sample size of 2235 essays, with each genre contains the following number of essays:\n",
        "* society: 653\n",
        "* philosophy: 461\n",
        "* science: 412\n",
        "* psychology: 444\n",
        "* culture: 265\n",
        "\n"
      ]
    },
    {
      "cell_type": "markdown",
      "metadata": {},
      "source": [
        "\n",
        "## Lingustic Analysis: Semantic Similarity for Genre Classification\n",
        "\n",
        "In the current study, I will use semantic similarity on both sentence (phrases) level and document level:\n",
        "\n",
        "1) **examine the semantic similarity between all subtopics** to observe potential patterns of similarity across/between genres. and \n",
        "\n",
        "2) to calculate the \"genre similarity\" of each Essay, I will **aggregate all the subtopics into one single string for each genre**, and use this \"sample string\" as basis of similarity comparisons between documents. For more accurate results, only content words are kept for both essays content and subtopic strings.\n",
        "\n"
      ]
    },
    {
      "cell_type": "markdown",
      "metadata": {},
      "source": [
        "\n",
        "## Statistical Analysis: Machine Learning with Logistic Regression\n",
        "**Logistic Regression** is a special case of linear regression where the target variable is categorical in nature. It uses a log of odds as the dependent variable. Logistic Regression predicts the probability of occurrence of a binary event utilizing a logit function. It is useful in machine learning for any binary classification problem.(Datacamp,2019) In our study, logistic regression is used to predict the likelihood that a certain essay belongs to a particular genre.\n",
        "\n",
        "Other models (Naive Bayes, SVC, etc.) might also be employed for text classification. However, logistic regression is used in the current study as it is the most interpretable."
      ]
    },
    {
      "cell_type": "markdown",
      "metadata": {},
      "source": [
        "## Coding\n"
      ]
    },
    {
      "cell_type": "markdown",
      "metadata": {},
      "source": [
        "### Import the Dataset"
      ]
    },
    {
      "cell_type": "code",
      "execution_count": 1,
      "metadata": {
        "colab": {
          "base_uri": "https://localhost:8080/"
        },
        "id": "2gERmcw4GPUI",
        "outputId": "4714f266-0dcc-4961-973c-5713dbcbccff"
      },
      "outputs": [],
      "source": [
        "## Set up environment\n",
        "import pandas as pd ##import Pandas\n",
        "import spacy ##import Spacy\n",
        "import os ##import OS\n",
        "import matplotlib.pyplot as plt ##import plt for visualization"
      ]
    },
    {
      "cell_type": "code",
      "execution_count": 2,
      "metadata": {
        "colab": {
          "base_uri": "https://localhost:8080/",
          "height": 806
        },
        "id": "qhcy_p_bMdxS",
        "outputId": "bd2cbba5-da06-484d-aab0-da31d1bf0dcd"
      },
      "outputs": [
        {
          "data": {
            "text/html": [
              "<div>\n",
              "<style scoped>\n",
              "    .dataframe tbody tr th:only-of-type {\n",
              "        vertical-align: middle;\n",
              "    }\n",
              "\n",
              "    .dataframe tbody tr th {\n",
              "        vertical-align: top;\n",
              "    }\n",
              "\n",
              "    .dataframe thead th {\n",
              "        text-align: right;\n",
              "    }\n",
              "</style>\n",
              "<table border=\"1\" class=\"dataframe\">\n",
              "  <thead>\n",
              "    <tr style=\"text-align: right;\">\n",
              "      <th></th>\n",
              "      <th>title</th>\n",
              "      <th>description</th>\n",
              "      <th>essay</th>\n",
              "      <th>authors</th>\n",
              "      <th>source_url</th>\n",
              "      <th>thumbnail_url</th>\n",
              "    </tr>\n",
              "  </thead>\n",
              "  <tbody>\n",
              "    <tr>\n",
              "      <th>0</th>\n",
              "      <td>Space exploration</td>\n",
              "      <td>When self-replicating craft bring life to the ...</td>\n",
              "      <td>Some time late this century, someone will push...</td>\n",
              "      <td>Jay Olson</td>\n",
              "      <td>https://aeon.co//essays/cosmic-expansion-is-a-...</td>\n",
              "      <td>https://images.aeonmedia.co/images/9239658f-b9...</td>\n",
              "    </tr>\n",
              "    <tr>\n",
              "      <th>1</th>\n",
              "      <td>History of science</td>\n",
              "      <td>To the detriment of the public, scientists and...</td>\n",
              "      <td>Would boycotting Russian scientists be an effe...</td>\n",
              "      <td>Lorraine Daston &amp; Peter Harrison</td>\n",
              "      <td>https://aeon.co//essays/science-and-history-ca...</td>\n",
              "      <td>https://images.aeonmedia.co/images/7e9ea9e3-03...</td>\n",
              "    </tr>\n",
              "    <tr>\n",
              "      <th>2</th>\n",
              "      <td>Religion</td>\n",
              "      <td>Once a centre of Afghan culture, Sufism seems ...</td>\n",
              "      <td>My introduction into the world of Afghanistanâ...</td>\n",
              "      <td>Annika Schmeding</td>\n",
              "      <td>https://aeon.co//essays/sufi-transitions-betwe...</td>\n",
              "      <td>https://images.aeonmedia.co/images/957fb6c9-40...</td>\n",
              "    </tr>\n",
              "    <tr>\n",
              "      <th>3</th>\n",
              "      <td>Thinkers and theories</td>\n",
              "      <td>The intrepid logician Kurt GÃ¶del believed in ...</td>\n",
              "      <td>As the foremost logician of the 20th century, ...</td>\n",
              "      <td>Alexander T Englert</td>\n",
              "      <td>https://aeon.co//essays/kurt-godel-his-mother-...</td>\n",
              "      <td>https://images.aeonmedia.co/images/cbe24f46-98...</td>\n",
              "    </tr>\n",
              "    <tr>\n",
              "      <th>4</th>\n",
              "      <td>Thinkers and theories</td>\n",
              "      <td>For Rachel Bespaloff, philosophy was a sensual...</td>\n",
              "      <td>Shortly after Rachel Bespaloffâs suicide in ...</td>\n",
              "      <td>Isabel Jacobs</td>\n",
              "      <td>https://aeon.co//essays/for-rachel-bespaloff-p...</td>\n",
              "      <td>https://images.aeonmedia.co/images/536e31b1-dc...</td>\n",
              "    </tr>\n",
              "    <tr>\n",
              "      <th>...</th>\n",
              "      <td>...</td>\n",
              "      <td>...</td>\n",
              "      <td>...</td>\n",
              "      <td>...</td>\n",
              "      <td>...</td>\n",
              "      <td>...</td>\n",
              "    </tr>\n",
              "    <tr>\n",
              "      <th>2230</th>\n",
              "      <td>Architecture</td>\n",
              "      <td>We can build structures that last for centurie...</td>\n",
              "      <td>Make a model of the world in your mind. Popula...</td>\n",
              "      <td>Marek Kohn</td>\n",
              "      <td>https://aeon.co//essays/who-do-we-care-about-w...</td>\n",
              "      <td>https://images.aeonmedia.co/images/1dc63341-54...</td>\n",
              "    </tr>\n",
              "    <tr>\n",
              "      <th>2231</th>\n",
              "      <td>Human rights and justice</td>\n",
              "      <td>The ruling that Anders Breivik is sane leaves ...</td>\n",
              "      <td>Anders Behring Breivik has been declared sane ...</td>\n",
              "      <td>Stephen Cave</td>\n",
              "      <td>https://aeon.co//essays/could-the-law-make-us-...</td>\n",
              "      <td>https://images.aeonmedia.co/images/8f0c3d57-bd...</td>\n",
              "    </tr>\n",
              "    <tr>\n",
              "      <th>2232</th>\n",
              "      <td>Demography and migration</td>\n",
              "      <td>Despite its turmoil, ever more people are risk...</td>\n",
              "      <td>Itâs 9.30pm and I am in a police station in ...</td>\n",
              "      <td>Helena Drysdale</td>\n",
              "      <td>https://aeon.co//essays/greeces-other-crisis-c...</td>\n",
              "      <td>https://images.aeonmedia.co/images/71629b3c-0e...</td>\n",
              "    </tr>\n",
              "    <tr>\n",
              "      <th>2233</th>\n",
              "      <td>Ecology and environmental sciences</td>\n",
              "      <td>We picture ancient Britain as a land of enchan...</td>\n",
              "      <td>As part of a recent walk across England, I ent...</td>\n",
              "      <td>Hugh Thomson</td>\n",
              "      <td>https://aeon.co//essays/who-chopped-down-brita...</td>\n",
              "      <td>https://images.aeonmedia.co/images/5892900e-30...</td>\n",
              "    </tr>\n",
              "    <tr>\n",
              "      <th>2234</th>\n",
              "      <td>Art</td>\n",
              "      <td>As the boundaries between digital and physical...</td>\n",
              "      <td>Shoreditch, east London, is home to a remarkab...</td>\n",
              "      <td>Will Wiles</td>\n",
              "      <td>https://aeon.co//essays/what-do-we-uncover-whe...</td>\n",
              "      <td>https://images.aeonmedia.co/images/3299481e-49...</td>\n",
              "    </tr>\n",
              "  </tbody>\n",
              "</table>\n",
              "<p>2235 rows × 6 columns</p>\n",
              "</div>"
            ],
            "text/plain": [
              "                                   title  \\\n",
              "0                      Space exploration   \n",
              "1                     History of science   \n",
              "2                               Religion   \n",
              "3                  Thinkers and theories   \n",
              "4                  Thinkers and theories   \n",
              "...                                  ...   \n",
              "2230                        Architecture   \n",
              "2231            Human rights and justice   \n",
              "2232            Demography and migration   \n",
              "2233  Ecology and environmental sciences   \n",
              "2234                                 Art   \n",
              "\n",
              "                                            description  \\\n",
              "0     When self-replicating craft bring life to the ...   \n",
              "1     To the detriment of the public, scientists and...   \n",
              "2     Once a centre of Afghan culture, Sufism seems ...   \n",
              "3     The intrepid logician Kurt GÃ¶del believed in ...   \n",
              "4     For Rachel Bespaloff, philosophy was a sensual...   \n",
              "...                                                 ...   \n",
              "2230  We can build structures that last for centurie...   \n",
              "2231  The ruling that Anders Breivik is sane leaves ...   \n",
              "2232  Despite its turmoil, ever more people are risk...   \n",
              "2233  We picture ancient Britain as a land of enchan...   \n",
              "2234  As the boundaries between digital and physical...   \n",
              "\n",
              "                                                  essay  \\\n",
              "0     Some time late this century, someone will push...   \n",
              "1     Would boycotting Russian scientists be an effe...   \n",
              "2     My introduction into the world of Afghanistanâ...   \n",
              "3     As the foremost logician of the 20th century, ...   \n",
              "4     Shortly after Rachel Bespaloffâs suicide in ...   \n",
              "...                                                 ...   \n",
              "2230  Make a model of the world in your mind. Popula...   \n",
              "2231  Anders Behring Breivik has been declared sane ...   \n",
              "2232  Itâs 9.30pm and I am in a police station in ...   \n",
              "2233  As part of a recent walk across England, I ent...   \n",
              "2234  Shoreditch, east London, is home to a remarkab...   \n",
              "\n",
              "                               authors  \\\n",
              "0                            Jay Olson   \n",
              "1     Lorraine Daston & Peter Harrison   \n",
              "2                     Annika Schmeding   \n",
              "3                  Alexander T Englert   \n",
              "4                        Isabel Jacobs   \n",
              "...                                ...   \n",
              "2230                        Marek Kohn   \n",
              "2231                      Stephen Cave   \n",
              "2232                   Helena Drysdale   \n",
              "2233                      Hugh Thomson   \n",
              "2234                        Will Wiles   \n",
              "\n",
              "                                             source_url  \\\n",
              "0     https://aeon.co//essays/cosmic-expansion-is-a-...   \n",
              "1     https://aeon.co//essays/science-and-history-ca...   \n",
              "2     https://aeon.co//essays/sufi-transitions-betwe...   \n",
              "3     https://aeon.co//essays/kurt-godel-his-mother-...   \n",
              "4     https://aeon.co//essays/for-rachel-bespaloff-p...   \n",
              "...                                                 ...   \n",
              "2230  https://aeon.co//essays/who-do-we-care-about-w...   \n",
              "2231  https://aeon.co//essays/could-the-law-make-us-...   \n",
              "2232  https://aeon.co//essays/greeces-other-crisis-c...   \n",
              "2233  https://aeon.co//essays/who-chopped-down-brita...   \n",
              "2234  https://aeon.co//essays/what-do-we-uncover-whe...   \n",
              "\n",
              "                                          thumbnail_url  \n",
              "0     https://images.aeonmedia.co/images/9239658f-b9...  \n",
              "1     https://images.aeonmedia.co/images/7e9ea9e3-03...  \n",
              "2     https://images.aeonmedia.co/images/957fb6c9-40...  \n",
              "3     https://images.aeonmedia.co/images/cbe24f46-98...  \n",
              "4     https://images.aeonmedia.co/images/536e31b1-dc...  \n",
              "...                                                 ...  \n",
              "2230  https://images.aeonmedia.co/images/1dc63341-54...  \n",
              "2231  https://images.aeonmedia.co/images/8f0c3d57-bd...  \n",
              "2232  https://images.aeonmedia.co/images/71629b3c-0e...  \n",
              "2233  https://images.aeonmedia.co/images/5892900e-30...  \n",
              "2234  https://images.aeonmedia.co/images/3299481e-49...  \n",
              "\n",
              "[2235 rows x 6 columns]"
            ]
          },
          "metadata": {},
          "output_type": "display_data"
        }
      ],
      "source": [
        "## Set up data path and import dataset\n",
        "file_path = r\"C:\\Users\\StarGazer\\OneDrive\\Documents\\Vanderbilt\\2024 Spring\\NLP\\Data Assignment 1\\Aeon_essays.csv\"\n",
        "## Read in the original data \n",
        "reading_aeon = pd.read_csv(\n",
        "    file_path,\n",
        "    usecols=range(6),\n",
        "    encoding=\"ISO-8859-1\",\n",
        "    )\n",
        "\n",
        "## Display to confirm the dataset is imported correctly\n",
        "display(reading_aeon)"
      ]
    },
    {
      "cell_type": "markdown",
      "metadata": {
        "id": "Tak4xS1qHtyb"
      },
      "source": [
        "### Data Modification, Manually Add in Genre Entry\n",
        "\n",
        "\n",
        "\n",
        "\n"
      ]
    },
    {
      "cell_type": "code",
      "execution_count": 3,
      "metadata": {
        "colab": {
          "base_uri": "https://localhost:8080/"
        },
        "id": "G4muZ7NQOhyh",
        "outputId": "f1b1b443-1c99-4122-805d-e60c4ba4b080"
      },
      "outputs": [
        {
          "name": "stderr",
          "output_type": "stream",
          "text": [
            "C:\\Users\\StarGazer\\AppData\\Local\\Temp\\ipykernel_12520\\1562663242.py:3: SettingWithCopyWarning: \n",
            "A value is trying to be set on a copy of a slice from a DataFrame.\n",
            "Try using .loc[row_indexer,col_indexer] = value instead\n",
            "\n",
            "See the caveats in the documentation: https://pandas.pydata.org/pandas-docs/stable/user_guide/indexing.html#returning-a-view-versus-a-copy\n",
            "  aeon['title'] = aeon['title'].str.lower() #lowercase the titles\n",
            "C:\\Users\\StarGazer\\AppData\\Local\\Temp\\ipykernel_12520\\1562663242.py:4: SettingWithCopyWarning: \n",
            "A value is trying to be set on a copy of a slice from a DataFrame.\n",
            "Try using .loc[row_indexer,col_indexer] = value instead\n",
            "\n",
            "See the caveats in the documentation: https://pandas.pydata.org/pandas-docs/stable/user_guide/indexing.html#returning-a-view-versus-a-copy\n",
            "  aeon['description'] = aeon['description'].str.lower() #lowercase the essay summaries\n",
            "C:\\Users\\StarGazer\\AppData\\Local\\Temp\\ipykernel_12520\\1562663242.py:5: SettingWithCopyWarning: \n",
            "A value is trying to be set on a copy of a slice from a DataFrame.\n",
            "Try using .loc[row_indexer,col_indexer] = value instead\n",
            "\n",
            "See the caveats in the documentation: https://pandas.pydata.org/pandas-docs/stable/user_guide/indexing.html#returning-a-view-versus-a-copy\n",
            "  aeon['essay'] = aeon['essay'].str.lower() #lowercase the essay content\n"
          ]
        }
      ],
      "source": [
        "## Start by cleaning up the dataset\n",
        "aeon = reading_aeon.iloc[:,:-2] #removing the last two entries since url will not be used\n",
        "aeon['title'] = aeon['title'].str.lower() #lowercase the titles\n",
        "aeon['description'] = aeon['description'].str.lower() #lowercase the essay summaries\n",
        "aeon['essay'] = aeon['essay'].str.lower() #lowercase the essay content\n"
      ]
    },
    {
      "cell_type": "code",
      "execution_count": 4,
      "metadata": {
        "id": "h2FSrSMxkz0R"
      },
      "outputs": [],
      "source": [
        "#Group the essay into their according genres according to the Aeon website\n",
        "#Start with defining the genres\n",
        "philosophy = [\n",
        "    \"beauty and aesthetics\", \"bioethics\", \"comparative philosophy\", \"cosmopolitanism\",\n",
        "    \"death\", \"ethics\", \"history of ideas\", \"knowledge\", \"logic and probability\",\n",
        "    \"meaning and the good life\", \"metaphysics\", \"philosophy of language\",\n",
        "    \"philosophy of mind\", \"philosophy of religion\", \"philosophy of science\",\n",
        "    \"political philosophy\", \"thinkers and theories\", \"values and beliefs\",\n",
        "    \"virtues and vices\"\n",
        "] #List out all the subtopics that belongs to each genre, the list can be found on the Aeon website\n",
        "\n",
        "psychology = [\n",
        "    \"addiction\", \"ageing and death\", \"childhood and adolescence\", \"cognition and intelligence\",\n",
        "    \"consciousness and altered states\", \"family life\", \"gender and identity\",\n",
        "    \"language and linguistics\", \"life stages\", \"love and friendship\", \"mental health\",\n",
        "    \"mood and emotion\", \"neurodiversity\", \"neuroscience\", \"personality\", \"pleasure and pain\",\n",
        "    \"psychiatry and psychotherapy\", \"self-improvement\", \"sex and sexuality\", \"sleep and dreams\",\n",
        "    \"social psychology\", \"spirituality\", \"teaching and learning\", \"technology and the self\",\n",
        "    \"wellbeing\"\n",
        "]\n",
        "\n",
        "science = [\n",
        "    \"astronomy\", \"biology\", \"biotechnology\", \"chemistry\", \"complexity\",\n",
        "    \"computing and artificial intelligence\", \"cosmology\", \"deep time\", \"earth science and climate\",\n",
        "    \"ecology and environmental sciences\", \"engineering\", \"evolution\", \"genetics\",\n",
        "    \"history of science\", \"human evolution\", \"human reproduction\", \"illness and disease\",\n",
        "    \"mathematics\", \"medicine\", \"oceans and water\", \"palaeontology\", \"physics\",\n",
        "    \"quantum theory\", \"space exploration\"\n",
        "]\n",
        "\n",
        "society = [\n",
        "    \"animals and humans\", \"anthropology\", \"archaeology\", \"automation and robotics\", \"cities\",\n",
        "    \"demography and migration\", \"economic history\", \"economics\", \"education\",\n",
        "    \"environmental history\", \"fairness and equality\", \"future of technology\", \"gender\",\n",
        "    \"global history\", \"history\", \"history of technology\", \"human rights and justice\",\n",
        "    \"information and communication\", \"making\", \"nations and empires\", \"politics and government\",\n",
        "    \"poverty and development\", \"progress and modernity\", \"public health\", \"race and ethnicity\",\n",
        "    \"religion\", \"the ancient world\", \"the environment\", \"the future\", \"war and peace\", \"work\"\n",
        "]\n",
        "\n",
        "culture = [\n",
        "    \"architecture\", \"art\", \"biography and memoir\", \"dance and theatre\", \"design and fashion\",\n",
        "    \"film and visual culture\", \"food and drink\", \"home\", \"music\", \"nature and landscape\",\n",
        "    \"rituals and celebrations\", \"sports and games\", \"stories and literature\", \"subcultures\",\n",
        "    \"travel\"\n",
        "]\n"
      ]
    },
    {
      "cell_type": "code",
      "execution_count": 57,
      "metadata": {
        "colab": {
          "base_uri": "https://localhost:8080/"
        },
        "id": "cK1FhZdPK1qL",
        "outputId": "608170ba-91ed-49b6-f484-c7db80dd0dec"
      },
      "outputs": [],
      "source": [
        "# Group the essay into their according genre \n",
        "# This process also sorts out any essays that have void input\n",
        "# Define genres as dictionary\n",
        "genres = {\n",
        "    \"philosophy\": philosophy,\n",
        "    \"psychology\": psychology,\n",
        "    \"science\": science,\n",
        "    \"society\": society,\n",
        "    \"culture\": culture\n",
        "}\n",
        "\n",
        "# Create a function to determine the genre that an essay belongs to\n",
        "def determine_genre(essay_title):\n",
        "    for genre, topics in genres.items(): # Search if a given topic is in the listed topics in any genre\n",
        "        if any(essay_title.lower() == topic.lower() for topic in topics):  # Convert to lowercase\n",
        "            return genre\n",
        "    return \"other\"  # Default genre if no match is found\n",
        "\n",
        "# Apply the function to each row in the 'topic' column to create a new 'genre' column\n",
        "aeon['genre'] = aeon['title'].apply(determine_genre) # add a column of genre for each topic\n"
      ]
    },
    {
      "cell_type": "code",
      "execution_count": 58,
      "metadata": {},
      "outputs": [
        {
          "name": "stdout",
          "output_type": "stream",
          "text": [
            "genre\n",
            "society       653\n",
            "philosophy    461\n",
            "psychology    444\n",
            "science       412\n",
            "culture       265\n",
            "Name: count, dtype: int64\n"
          ]
        }
      ],
      "source": [
        "#Check the dataset after adding the genre column \n",
        "print(aeon['genre'].value_counts())# Check the number of essays in each genre"
      ]
    },
    {
      "cell_type": "markdown",
      "metadata": {},
      "source": [
        "### Initial Analysis: Semantic Similarity for Subtopics"
      ]
    },
    {
      "cell_type": "markdown",
      "metadata": {},
      "source": [
        "Research Question: How does the similarity score for subtopics compare between and across genres?"
      ]
    },
    {
      "cell_type": "code",
      "execution_count": 7,
      "metadata": {},
      "outputs": [
        {
          "name": "stdout",
          "output_type": "stream",
          "text": [
            "\u001b[38;5;2m✔ Download and installation successful\u001b[0m\n",
            "You can now load the package via spacy.load('en_core_web_lg')\n",
            "\u001b[38;5;3m⚠ Restart to reload dependencies\u001b[0m\n",
            "If you are in a Jupyter or Colab notebook, you may need to restart Python in\n",
            "order to load all the package's dependencies. You can do this by selecting the\n",
            "'Restart kernel' or 'Restart runtime' option.\n"
          ]
        }
      ],
      "source": [
        "import spacy\n",
        "import spacy.cli #spacy command line interface\n",
        "\n",
        "spacy.cli.download(\"en_core_web_lg\")\n"
      ]
    },
    {
      "cell_type": "code",
      "execution_count": 8,
      "metadata": {},
      "outputs": [],
      "source": [
        "nlp = spacy.load(\"en_core_web_lg\") #have a call for the spacy model"
      ]
    },
    {
      "cell_type": "code",
      "execution_count": 60,
      "metadata": {},
      "outputs": [],
      "source": [
        "# Create a function to remove stopwords\n",
        "def stopwords_remove(text):\n",
        "    doc = nlp(text)\n",
        "    text_no_stopwords = [token.text for token in doc if not token.is_stop and not token.is_punct]#remove stopwords and punctuations\n",
        "    return ' '.join(text_no_stopwords)#return the text without stopwords\n"
      ]
    },
    {
      "cell_type": "code",
      "execution_count": 61,
      "metadata": {},
      "outputs": [],
      "source": [
        "cleaned_genres = {genre: [stopwords_remove(topic) for topic in topics] for genre, topics in genres.items()}\n",
        "# remove stopwords from the subtopics in each genre"
      ]
    },
    {
      "cell_type": "code",
      "execution_count": 63,
      "metadata": {},
      "outputs": [],
      "source": [
        "# Calculate semantic similarity of subtopics within genres\n",
        "within_genre_similarity = {}\n",
        "within_genre_scores = {}\n",
        "for genre, subtopics in cleaned_genres.items():\n",
        "    similarity_scores = [] \n",
        "    for i in range(len(subtopics)):\n",
        "        for j in range(i+1, len(subtopics)):\n",
        "            subtopic1 = nlp(subtopics[i])\n",
        "            subtopic2 = nlp(subtopics[j])\n",
        "            similarity = subtopic1.similarity(subtopic2)\n",
        "            similarity_scores.append(similarity)\n",
        "    within_genre_similarity[genre] = sum(similarity_scores) / len(similarity_scores)\n",
        "    within_genre_scores[genre] = similarity_scores\n"
      ]
    },
    {
      "cell_type": "code",
      "execution_count": 65,
      "metadata": {},
      "outputs": [],
      "source": [
        "# Calculate semantic similarity across genres\n",
        "across_genre_similarity = {}\n",
        "across_genre_scores = {}    \n",
        "genre_pairs = [(genre1, genre2) for i, genre1 in enumerate(genres) for j, genre2 in enumerate(cleaned_genres) if i < j]\n",
        "for genre1, genre2 in genre_pairs:\n",
        "    subtopics1, subtopics2 = genres[genre1], genres[genre2]\n",
        "    similarity_scores = []\n",
        "    for subtopic1 in subtopics1:\n",
        "        for subtopic2 in subtopics2:\n",
        "            subtopic1_vec = nlp(subtopic1)\n",
        "            subtopic2_vec = nlp(subtopic2)\n",
        "            similarity = subtopic1_vec.similarity(subtopic2_vec)\n",
        "            similarity_scores.append(similarity)\n",
        "    across_genre_similarity[f\"{genre1} - {genre2}\"] = sum(similarity_scores) / len(similarity_scores)\n",
        "    across_genre_scores[f\"{genre1} - {genre2}\"] = similarity_scores"
      ]
    },
    {
      "cell_type": "code",
      "execution_count": 64,
      "metadata": {},
      "outputs": [
        {
          "name": "stdout",
          "output_type": "stream",
          "text": [
            "Within-genre semantic similarity:\n",
            "philosophy: 0.53\n",
            "psychology: 0.47\n",
            "science: 0.53\n",
            "society: 0.50\n",
            "culture: 0.35\n",
            "\n",
            "Across-genre semantic similarity:\n",
            "philosophy - psychology: 0.53\n",
            "philosophy - science: 0.51\n",
            "philosophy - society: 0.54\n",
            "philosophy - culture: 0.45\n",
            "psychology - science: 0.50\n",
            "psychology - society: 0.55\n",
            "psychology - culture: 0.49\n",
            "science - society: 0.51\n",
            "science - culture: 0.43\n",
            "society - culture: 0.48\n"
          ]
        }
      ],
      "source": [
        "# Print the results\n",
        "print(\"Within-genre semantic similarity:\")\n",
        "for genre, similarity in within_genre_similarity.items():\n",
        "    print(f\"{genre}: {similarity:.2f}\")\n",
        "\n",
        "print(\"\\nAcross-genre semantic similarity:\")\n",
        "for genre_pair, similarity in across_genre_similarity.items():\n",
        "    print(f\"{genre_pair}: {similarity:.2f}\")"
      ]
    },
    {
      "cell_type": "code",
      "execution_count": 14,
      "metadata": {},
      "outputs": [
        {
          "data": {
            "image/png": "[encoded data removed]",
            "text/plain": [
              "<Figure size 1500x500 with 2 Axes>"
            ]
          },
          "metadata": {},
          "output_type": "display_data"
        }
      ],
      "source": [
        "# Visualize the results\n",
        "fig, ax = plt.subplots(1, 2, figsize=(15, 5))\n",
        "ax[0].bar(within_genre_similarity.keys(), within_genre_similarity.values(), color='skyblue')\n",
        "ax[0].set_title(\"Within-genre semantic similarity (subtopics)\")\n",
        "ax[0].set_ylabel(\"Average similarity score\")\n",
        "ax[1].bar(across_genre_similarity.keys(), across_genre_similarity.values(), color='salmon')\n",
        "ax[1].set_title(\"Across-genre semantic similarity (subtopics)\")\n",
        "ax[1].set_ylabel(\"Average similarity score\")\n",
        "plt.xticks(rotation=45)\n",
        "plt.tight_layout()\n",
        "plt.show()\n",
        "\n"
      ]
    },
    {
      "cell_type": "code",
      "execution_count": 15,
      "metadata": {},
      "outputs": [
        {
          "data": {
            "text/plain": [
              "{'philosophy': 19,\n",
              " 'psychology': 25,\n",
              " 'science': 24,\n",
              " 'society': 31,\n",
              " 'culture': 15}"
            ]
          },
          "execution_count": 15,
          "metadata": {},
          "output_type": "execute_result"
        }
      ],
      "source": [
        "# count the number of subtopics in each genre\n",
        "genre_subtopic_counts = {genre: len(topics) for genre, topics in genres.items()} \n",
        "genre_subtopic_counts "
      ]
    },
    {
      "cell_type": "markdown",
      "metadata": {},
      "source": [
        "### p-value for testing significance of difference\n"
      ]
    },
    {
      "cell_type": "code",
      "execution_count": 16,
      "metadata": {},
      "outputs": [],
      "source": [
        "# Example data structures\n",
        "within_genre_scores = [0.53, 0.47, 0.53, 0.50, 0.35]  # philosophy, psychology, science, society, culture\n",
        "across_genre_scores = [0.53, 0.51, 0.54, 0.45, 0.50, 0.55, 0.49, 0.51, 0.43, 0.48]  # pairs as listed\n"
      ]
    },
    {
      "cell_type": "code",
      "execution_count": 39,
      "metadata": {},
      "outputs": [],
      "source": [
        "import scipy.stats as stats\n",
        "import numpy as np\n"
      ]
    },
    {
      "cell_type": "code",
      "execution_count": 66,
      "metadata": {},
      "outputs": [
        {
          "name": "stdout",
          "output_type": "stream",
          "text": [
            "Shapiro-Wilk test for philosophy: Stat=0.9452, P-value=0.0000\n",
            "Shapiro-Wilk test for psychology: Stat=0.9925, P-value=0.1331\n",
            "Shapiro-Wilk test for science: Stat=0.9827, P-value=0.0020\n",
            "Shapiro-Wilk test for society: Stat=0.9951, P-value=0.1499\n",
            "Shapiro-Wilk test for culture: Stat=0.9803, P-value=0.1209\n"
          ]
        }
      ],
      "source": [
        "import scipy.stats as stats\n",
        "\n",
        "# Example list of scores for each discipline\n",
        "\n",
        "# Check for normality\n",
        "for genre, vals in within_genre_scores.items():\n",
        "    stat, p = stats.shapiro(vals)\n",
        "    print(f\"Shapiro-Wilk test for {genre}: Stat={stat:.4f}, P-value={p:.4f}\")\n"
      ]
    },
    {
      "cell_type": "code",
      "execution_count": 82,
      "metadata": {},
      "outputs": [
        {
          "name": "stdout",
          "output_type": "stream",
          "text": [
            "Shapiro-Wilk test for philosophy - psychology: Stat=0.9831, P-value=0.0000\n",
            "Shapiro-Wilk test for philosophy - science: Stat=0.9800, P-value=0.0000\n",
            "Shapiro-Wilk test for philosophy - society: Stat=0.9867, P-value=0.0000\n",
            "Shapiro-Wilk test for philosophy - culture: Stat=0.9705, P-value=0.0000\n",
            "Shapiro-Wilk test for psychology - science: Stat=0.9849, P-value=0.0000\n",
            "Shapiro-Wilk test for psychology - society: Stat=0.9916, P-value=0.0002\n",
            "Shapiro-Wilk test for psychology - culture: Stat=0.9812, P-value=0.0001\n",
            "Shapiro-Wilk test for science - society: Stat=0.9931, P-value=0.0017\n",
            "Shapiro-Wilk test for science - culture: Stat=0.9938, P-value=0.1496\n",
            "Shapiro-Wilk test for society - culture: Stat=0.9771, P-value=0.0000\n"
          ]
        }
      ],
      "source": [
        "import scipy.stats as stats\n",
        "\n",
        "# Example list of scores for each discipline\n",
        "\n",
        "# Check for normality\n",
        "for genre, vals in across_genre_scores.items():\n",
        "    stat, p = stats.shapiro(vals)\n",
        "    print(f\"Shapiro-Wilk test for {genre}: Stat={stat:.4f}, P-value={p:.4f}\")"
      ]
    },
    {
      "cell_type": "code",
      "execution_count": 72,
      "metadata": {},
      "outputs": [
        {
          "data": {
            "text/plain": [
              "['philosophy', 'psychology', 'science', 'society', 'culture']"
            ]
          },
          "execution_count": 72,
          "metadata": {},
          "output_type": "execute_result"
        }
      ],
      "source": [
        "import pandas as pd\n",
        "import scipy.stats as stats\n",
        "import scikit_posthocs as sp\n",
        "\n",
        "# Assuming within_genre_scores is your dictionary with discipline names as keys\n",
        "discipline_names = list(within_genre_scores.keys())  # List of discipline names\n",
        "discipline_names\n"
      ]
    },
    {
      "cell_type": "code",
      "execution_count": 81,
      "metadata": {},
      "outputs": [
        {
          "name": "stdout",
          "output_type": "stream",
          "text": [
            "Kruskal-Wallis test: Stat=100.2918, P-value=0.0000\n",
            "              1         2             3             4             5\n",
            "1  1.000000e+00  0.000036  1.000000e+00  1.857515e-02  8.480839e-16\n",
            "2  3.606655e-05  1.000000  2.616727e-06  2.534958e-01  2.136205e-06\n",
            "3  1.000000e+00  0.000003  1.000000e+00  5.149981e-03  6.983945e-18\n",
            "4  1.857515e-02  0.253496  5.149981e-03  1.000000e+00  3.036529e-11\n",
            "5  8.480839e-16  0.000002  6.983945e-18  3.036529e-11  1.000000e+00\n"
          ]
        }
      ],
      "source": [
        "# Flatten the lists and create labels for Kruskal-Wallis test\n",
        "data = []\n",
        "labels = []\n",
        "for genre, vals in within_genre_scores.items():\n",
        "    data.extend(vals)\n",
        "    labels.extend([genre] * len(vals))\n",
        "\n",
        "# Conduct Kruskal-Wallis test\n",
        "stat, p_val = stats.kruskal(*[within_genre_scores[genre] for genre in within_genre_scores])\n",
        "print(f\"Kruskal-Wallis test: Stat={stat:.4f}, P-value={p_val:.4f}\")\n",
        "\n",
        "# If significant, proceed with post-hoc tests\n",
        "if p_val < 0.05:\n",
        "    # Pairwise comparisons can be done with Dunn's test or pairwise Mann-Whitney U tests with a Bonferroni correction\n",
        "    # This part requires additional steps or a specific package such as scikit-posthocs\n",
        "    import scikit_posthocs as sp\n",
        "    posthoc = sp.posthoc_dunn([within_genre_scores[genre] for genre in within_genre_scores], p_adjust='bonferroni')\n",
        "    print(posthoc)\n"
      ]
    },
    {
      "cell_type": "code",
      "execution_count": 84,
      "metadata": {},
      "outputs": [
        {
          "name": "stdout",
          "output_type": "stream",
          "text": [
            "Kruskal-Wallis test: Stat=184.0976, P-value=0.0000\n",
            "              1             2             3             4             5   \\\n",
            "1   1.000000e+00  7.981255e-01  1.000000e+00  4.620338e-06  7.688009e-03   \n",
            "2   7.981255e-01  1.000000e+00  2.452226e-02  5.725373e-02  1.000000e+00   \n",
            "3   1.000000e+00  2.452226e-02  1.000000e+00  9.027497e-09  2.349619e-05   \n",
            "4   4.620338e-06  5.725373e-02  9.027497e-09  1.000000e+00  8.816187e-01   \n",
            "5   7.688009e-03  1.000000e+00  2.349619e-05  8.816187e-01  1.000000e+00   \n",
            "6   1.000000e+00  3.616738e-03  1.000000e+00  2.856200e-10  6.567806e-07   \n",
            "7   1.660117e-02  1.000000e+00  1.602315e-04  1.000000e+00  1.000000e+00   \n",
            "8   1.293110e-01  1.000000e+00  8.945171e-04  5.953938e-02  1.000000e+00   \n",
            "9   1.945810e-16  7.551875e-09  1.066256e-21  4.052322e-01  8.345438e-07   \n",
            "10  1.172332e-03  1.000000e+00  3.112411e-06  1.000000e+00  1.000000e+00   \n",
            "\n",
            "              6         7             8             9             10  \n",
            "1   1.000000e+00  0.016601  1.293110e-01  1.945810e-16  1.172332e-03  \n",
            "2   3.616738e-03  1.000000  1.000000e+00  7.551875e-09  1.000000e+00  \n",
            "3   1.000000e+00  0.000160  8.945171e-04  1.066256e-21  3.112411e-06  \n",
            "4   2.856200e-10  1.000000  5.953938e-02  4.052322e-01  1.000000e+00  \n",
            "5   6.567806e-07  1.000000  1.000000e+00  8.345438e-07  1.000000e+00  \n",
            "6   1.000000e+00  0.000012  3.961437e-05  4.095584e-25  9.183649e-08  \n",
            "7   1.239697e-05  1.000000  1.000000e+00  4.856988e-05  1.000000e+00  \n",
            "8   3.961437e-05  1.000000  1.000000e+00  8.781092e-10  1.000000e+00  \n",
            "9   4.095584e-25  0.000049  8.781092e-10  1.000000e+00  1.051018e-04  \n",
            "10  9.183649e-08  1.000000  1.000000e+00  1.051018e-04  1.000000e+00  \n"
          ]
        }
      ],
      "source": [
        "# Flatten the lists and create labels for Kruskal-Wallis test\n",
        "data_a = []\n",
        "labels_a = []\n",
        "for genre, vals in across_genre_scores.items():\n",
        "    data_a.extend(vals)\n",
        "    labels_a.extend([genre] * len(vals))\n",
        "\n",
        "# Conduct Kruskal-Wallis test\n",
        "stat, p_val = stats.kruskal(*[across_genre_scores[genre] for genre in across_genre_scores])\n",
        "print(f\"Kruskal-Wallis test: Stat={stat:.4f}, P-value={p_val:.4f}\")\n",
        "\n",
        "# If significant, proceed with post-hoc tests\n",
        "if p_val < 0.05:\n",
        "    # Pairwise comparisons can be done with Dunn's test or pairwise Mann-Whitney U tests with a Bonferroni correction\n",
        "    # This part requires additional steps or a specific package such as scikit-posthocs\n",
        "    import scikit_posthocs as sp\n",
        "    posthoc_a = sp.posthoc_dunn([across_genre_scores[genre] for genre in across_genre_scores], p_adjust='bonferroni')\n",
        "    print(posthoc_a)\n"
      ]
    },
    {
      "cell_type": "code",
      "execution_count": 85,
      "metadata": {},
      "outputs": [
        {
          "name": "stdout",
          "output_type": "stream",
          "text": [
            "Order of disciplines for testing: ['philosophy', 'psychology', 'science', 'society', 'culture']\n",
            "Order of disciplines for testing: ['philosophy - psychology', 'philosophy - science', 'philosophy - society', 'philosophy - culture', 'psychology - science', 'psychology - society', 'psychology - culture', 'science - society', 'science - culture', 'society - culture']\n"
          ]
        }
      ],
      "source": [
        "print(\"Order of disciplines for testing:\", list(within_genre_scores.keys()))\n",
        "print(\"Order of disciplines for testing:\", list(across_genre_scores.keys()))"
      ]
    },
    {
      "cell_type": "markdown",
      "metadata": {},
      "source": [
        "### Interpretations\n",
        "1. Within-genres: Philosophy (0.53) and Science (0.53) genre might have a relatively high degree of topical or thematic cohesion within genre, suggesting that Essays within these genres tend to discuss topics that are semantically closer to each other.While Culture genre (0.35) might have a greater diversity of subjects within genre compared to others. \n",
        "2. Across-genres: Aside from culture, all genres have cross-genre similarity scores over 0.5, suggesting interdisciplinary overlap or shared interest areas.\n",
        "Conclusion: the genre of Culture might be the most diversified and unique genre, with subtopics having less semantic overlaps with other subtopics both within and across genres. \n",
        "Sample size problem: since Culture genre only has 15 subtopics, it is more susceptable to higher variability and outlier effects, leading to potential overestimation of variability."
      ]
    },
    {
      "cell_type": "markdown",
      "metadata": {},
      "source": [
        "## Second Analysis: Semantic Similarity for Essays on Genres"
      ]
    },
    {
      "cell_type": "code",
      "execution_count": 20,
      "metadata": {
        "colab": {
          "base_uri": "https://localhost:8080/"
        },
        "id": "YuIxKI42lUrJ",
        "outputId": "6a4371e5-1e0d-4499-e8c8-103683732a94"
      },
      "outputs": [],
      "source": [
        "##Use pipe to analyze the essay contents through NLP\n",
        "essays_ner_large = list(nlp.pipe(aeon.essay, disable=[\"parser\", \"ner\"], batch_size=50)) \n",
        "## essay is batched given each essay content is relatively long (3000-7000 words approximately)"
      ]
    },
    {
      "cell_type": "code",
      "execution_count": 21,
      "metadata": {},
      "outputs": [
        {
          "data": {
            "text/html": [
              "<div>\n",
              "<style scoped>\n",
              "    .dataframe tbody tr th:only-of-type {\n",
              "        vertical-align: middle;\n",
              "    }\n",
              "\n",
              "    .dataframe tbody tr th {\n",
              "        vertical-align: top;\n",
              "    }\n",
              "\n",
              "    .dataframe thead th {\n",
              "        text-align: right;\n",
              "    }\n",
              "</style>\n",
              "<table border=\"1\" class=\"dataframe\">\n",
              "  <thead>\n",
              "    <tr style=\"text-align: right;\">\n",
              "      <th></th>\n",
              "      <th>title</th>\n",
              "      <th>description</th>\n",
              "      <th>essay</th>\n",
              "      <th>authors</th>\n",
              "      <th>genre</th>\n",
              "      <th>cw_text</th>\n",
              "    </tr>\n",
              "  </thead>\n",
              "  <tbody>\n",
              "    <tr>\n",
              "      <th>0</th>\n",
              "      <td>space exploration</td>\n",
              "      <td>when self-replicating craft bring life to the ...</td>\n",
              "      <td>some time late this century, someone will push...</td>\n",
              "      <td>Jay Olson</td>\n",
              "      <td>science</td>\n",
              "      <td>time late century push button unleashing life ...</td>\n",
              "    </tr>\n",
              "    <tr>\n",
              "      <th>1</th>\n",
              "      <td>history of science</td>\n",
              "      <td>to the detriment of the public, scientists and...</td>\n",
              "      <td>would boycotting russian scientists be an effe...</td>\n",
              "      <td>Lorraine Daston &amp; Peter Harrison</td>\n",
              "      <td>science</td>\n",
              "      <td>boycotting russian scientists effective protes...</td>\n",
              "    </tr>\n",
              "    <tr>\n",
              "      <th>2</th>\n",
              "      <td>religion</td>\n",
              "      <td>once a centre of afghan culture, sufism seems ...</td>\n",
              "      <td>my introduction into the world of afghanistanâ...</td>\n",
              "      <td>Annika Schmeding</td>\n",
              "      <td>society</td>\n",
              "      <td>introduction world afghanistanâs sufism bega...</td>\n",
              "    </tr>\n",
              "    <tr>\n",
              "      <th>3</th>\n",
              "      <td>thinkers and theories</td>\n",
              "      <td>the intrepid logician kurt gã¶del believed in ...</td>\n",
              "      <td>as the foremost logician of the 20th century, ...</td>\n",
              "      <td>Alexander T Englert</td>\n",
              "      <td>philosophy</td>\n",
              "      <td>foremost logician 20th century kurt gã¶del kno...</td>\n",
              "    </tr>\n",
              "    <tr>\n",
              "      <th>4</th>\n",
              "      <td>thinkers and theories</td>\n",
              "      <td>for rachel bespaloff, philosophy was a sensual...</td>\n",
              "      <td>shortly after rachel bespaloffâs suicide in ...</td>\n",
              "      <td>Isabel Jacobs</td>\n",
              "      <td>philosophy</td>\n",
              "      <td>shortly rachel bespaloffâs suicide 1949 frie...</td>\n",
              "    </tr>\n",
              "    <tr>\n",
              "      <th>...</th>\n",
              "      <td>...</td>\n",
              "      <td>...</td>\n",
              "      <td>...</td>\n",
              "      <td>...</td>\n",
              "      <td>...</td>\n",
              "      <td>...</td>\n",
              "    </tr>\n",
              "    <tr>\n",
              "      <th>2230</th>\n",
              "      <td>architecture</td>\n",
              "      <td>we can build structures that last for centurie...</td>\n",
              "      <td>make a model of the world in your mind. popula...</td>\n",
              "      <td>Marek Kohn</td>\n",
              "      <td>culture</td>\n",
              "      <td>model world mind populate starting people know...</td>\n",
              "    </tr>\n",
              "    <tr>\n",
              "      <th>2231</th>\n",
              "      <td>human rights and justice</td>\n",
              "      <td>the ruling that anders breivik is sane leaves ...</td>\n",
              "      <td>anders behring breivik has been declared sane ...</td>\n",
              "      <td>Stephen Cave</td>\n",
              "      <td>society</td>\n",
              "      <td>anders behring breivik declared sane criminall...</td>\n",
              "    </tr>\n",
              "    <tr>\n",
              "      <th>2232</th>\n",
              "      <td>demography and migration</td>\n",
              "      <td>despite its turmoil, ever more people are risk...</td>\n",
              "      <td>itâs 9.30pm and i am in a police station in ...</td>\n",
              "      <td>Helena Drysdale</td>\n",
              "      <td>society</td>\n",
              "      <td>itâs 9.30pm police station didimoticho greco...</td>\n",
              "    </tr>\n",
              "    <tr>\n",
              "      <th>2233</th>\n",
              "      <td>ecology and environmental sciences</td>\n",
              "      <td>we picture ancient britain as a land of enchan...</td>\n",
              "      <td>as part of a recent walk across england, i ent...</td>\n",
              "      <td>Hugh Thomson</td>\n",
              "      <td>science</td>\n",
              "      <td>recent walk england entered chilterns western ...</td>\n",
              "    </tr>\n",
              "    <tr>\n",
              "      <th>2234</th>\n",
              "      <td>art</td>\n",
              "      <td>as the boundaries between digital and physical...</td>\n",
              "      <td>shoreditch, east london, is home to a remarkab...</td>\n",
              "      <td>Will Wiles</td>\n",
              "      <td>culture</td>\n",
              "      <td>shoreditch east london home remarkable cluster...</td>\n",
              "    </tr>\n",
              "  </tbody>\n",
              "</table>\n",
              "<p>2235 rows × 6 columns</p>\n",
              "</div>"
            ],
            "text/plain": [
              "                                   title  \\\n",
              "0                      space exploration   \n",
              "1                     history of science   \n",
              "2                               religion   \n",
              "3                  thinkers and theories   \n",
              "4                  thinkers and theories   \n",
              "...                                  ...   \n",
              "2230                        architecture   \n",
              "2231            human rights and justice   \n",
              "2232            demography and migration   \n",
              "2233  ecology and environmental sciences   \n",
              "2234                                 art   \n",
              "\n",
              "                                            description  \\\n",
              "0     when self-replicating craft bring life to the ...   \n",
              "1     to the detriment of the public, scientists and...   \n",
              "2     once a centre of afghan culture, sufism seems ...   \n",
              "3     the intrepid logician kurt gã¶del believed in ...   \n",
              "4     for rachel bespaloff, philosophy was a sensual...   \n",
              "...                                                 ...   \n",
              "2230  we can build structures that last for centurie...   \n",
              "2231  the ruling that anders breivik is sane leaves ...   \n",
              "2232  despite its turmoil, ever more people are risk...   \n",
              "2233  we picture ancient britain as a land of enchan...   \n",
              "2234  as the boundaries between digital and physical...   \n",
              "\n",
              "                                                  essay  \\\n",
              "0     some time late this century, someone will push...   \n",
              "1     would boycotting russian scientists be an effe...   \n",
              "2     my introduction into the world of afghanistanâ...   \n",
              "3     as the foremost logician of the 20th century, ...   \n",
              "4     shortly after rachel bespaloffâs suicide in ...   \n",
              "...                                                 ...   \n",
              "2230  make a model of the world in your mind. popula...   \n",
              "2231  anders behring breivik has been declared sane ...   \n",
              "2232  itâs 9.30pm and i am in a police station in ...   \n",
              "2233  as part of a recent walk across england, i ent...   \n",
              "2234  shoreditch, east london, is home to a remarkab...   \n",
              "\n",
              "                               authors       genre  \\\n",
              "0                            Jay Olson     science   \n",
              "1     Lorraine Daston & Peter Harrison     science   \n",
              "2                     Annika Schmeding     society   \n",
              "3                  Alexander T Englert  philosophy   \n",
              "4                        Isabel Jacobs  philosophy   \n",
              "...                                ...         ...   \n",
              "2230                        Marek Kohn     culture   \n",
              "2231                      Stephen Cave     society   \n",
              "2232                   Helena Drysdale     society   \n",
              "2233                      Hugh Thomson     science   \n",
              "2234                        Will Wiles     culture   \n",
              "\n",
              "                                                cw_text  \n",
              "0     time late century push button unleashing life ...  \n",
              "1     boycotting russian scientists effective protes...  \n",
              "2     introduction world afghanistanâs sufism bega...  \n",
              "3     foremost logician 20th century kurt gã¶del kno...  \n",
              "4     shortly rachel bespaloffâs suicide 1949 frie...  \n",
              "...                                                 ...  \n",
              "2230  model world mind populate starting people know...  \n",
              "2231  anders behring breivik declared sane criminall...  \n",
              "2232  itâs 9.30pm police station didimoticho greco...  \n",
              "2233  recent walk england entered chilterns western ...  \n",
              "2234  shoreditch east london home remarkable cluster...  \n",
              "\n",
              "[2235 rows x 6 columns]"
            ]
          },
          "execution_count": 21,
          "metadata": {},
          "output_type": "execute_result"
        }
      ],
      "source": [
        "# Apply the remove_stopwords_spacy function to the 'text' column\n",
        "aeon['cw_text'] = aeon['essay'].apply(stopwords_remove)\n",
        "\n",
        "\n",
        "aeon"
      ]
    },
    {
      "cell_type": "markdown",
      "metadata": {},
      "source": [
        "### Data Visualization: Content Lengths Across Genres"
      ]
    },
    {
      "cell_type": "code",
      "execution_count": 22,
      "metadata": {},
      "outputs": [
        {
          "data": {
            "text/plain": [
              "genre\n",
              "culture       1693.954717\n",
              "philosophy    1645.579176\n",
              "psychology    1687.779279\n",
              "science       1821.822816\n",
              "society       1796.588055\n",
              "Name: num_tokens, dtype: float64"
            ]
          },
          "execution_count": 22,
          "metadata": {},
          "output_type": "execute_result"
        }
      ],
      "source": [
        "# This step is for addressing potential variations in the length of the essays across genres\n",
        "# Calculate the average number of tokens in each essay\n",
        "aeon['num_tokens'] = aeon['cw_text'].apply(lambda x: len(nlp(x)))\n",
        "# Calculate the average number of tokens in each genre\n",
        "average_tokens_by_genre = aeon.groupby('genre')['num_tokens'].mean()\n",
        "average_tokens_by_genre"
      ]
    },
    {
      "cell_type": "code",
      "execution_count": 23,
      "metadata": {},
      "outputs": [
        {
          "data": {
            "image/png": "[encoded data removed]",
            "text/plain": [
              "<Figure size 1000x600 with 1 Axes>"
            ]
          },
          "metadata": {},
          "output_type": "display_data"
        }
      ],
      "source": [
        "#visualize the distribution of essay lengths by genre\n",
        "import seaborn as sns\n",
        "import matplotlib.pyplot as plt\n",
        "\n",
        "\n",
        "plt.figure(figsize=(10, 6))  # Set the size of the figure\n",
        "\n",
        "# Create a violin plot \n",
        "sns.violinplot(x='genre', y='num_tokens', data=aeon)\n",
        "\n",
        "plt.title('Distribution of Essay Lengths by Genre')\n",
        "plt.xlabel('Genre')\n",
        "plt.ylabel('Number of Tokens')\n",
        "plt.xticks(rotation=45)  # Rotate the x labels to prevent overlap\n",
        "plt.show()\n"
      ]
    },
    {
      "cell_type": "markdown",
      "metadata": {},
      "source": [
        "The distribution of essay length is pretty averaged across genres - checked!"
      ]
    },
    {
      "cell_type": "markdown",
      "metadata": {},
      "source": [
        "### Set up \"Sample String\" for Each Genre"
      ]
    },
    {
      "cell_type": "code",
      "execution_count": 24,
      "metadata": {},
      "outputs": [],
      "source": [
        "# Transform the topic to string form\n",
        "philosophy_str = \" \".join(philosophy)\n",
        "psychology_str = \" \".join(psychology)\n",
        "science_str = \" \".join(science)\n",
        "society_str = \" \".join(society)\n",
        "culture_str = \" \".join(culture)\n",
        "\n",
        "#Combine into a list\n",
        "genre_str = [philosophy_str, psychology_str, science_str, society_str, culture_str]\n",
        "\n",
        "# Remove Stopwords\n",
        "genre_str_cw = [stopwords_remove(text) for text in genre_str]\n",
        "\n",
        "#Pipe the list for later comparison\n",
        "genre_docs = list(nlp.pipe(genre_str_cw))"
      ]
    },
    {
      "cell_type": "markdown",
      "metadata": {
        "id": "pFeBD7OflQ9z"
      },
      "source": [
        "### Compare Semantic Similarity Between Each Essay and the Sample Strings"
      ]
    },
    {
      "cell_type": "code",
      "execution_count": 25,
      "metadata": {},
      "outputs": [],
      "source": [
        "docs = list(nlp.pipe(aeon['cw_text'], disable=[\"parser\", \"ner\"], batch_size=50)) #spacy all the texts in the dataframe\n",
        "# Initialize lists to hold similarity scores for each genre\n",
        "doc_similarity_scores = {genre: [] for genre in ['philosophy', 'psychology', 'science', 'society', 'culture']}\n",
        "#Create a list of list; for each essay genre, we will have a separate list coding its own similarity score\n",
        "# Calculate similarity scores\n",
        "for doc in docs:\n",
        "    for genre_doc, genre_name in zip(genre_docs, ['philosophy', 'psychology', 'science', 'society', 'culture']):\n",
        "        similarity_score = doc.similarity(genre_doc)\n",
        "        doc_similarity_scores[genre_name].append(similarity_score) #append the similarity score to the list"
      ]
    },
    {
      "cell_type": "code",
      "execution_count": 26,
      "metadata": {},
      "outputs": [
        {
          "data": {
            "text/html": [
              "<div>\n",
              "<style scoped>\n",
              "    .dataframe tbody tr th:only-of-type {\n",
              "        vertical-align: middle;\n",
              "    }\n",
              "\n",
              "    .dataframe tbody tr th {\n",
              "        vertical-align: top;\n",
              "    }\n",
              "\n",
              "    .dataframe thead th {\n",
              "        text-align: right;\n",
              "    }\n",
              "</style>\n",
              "<table border=\"1\" class=\"dataframe\">\n",
              "  <thead>\n",
              "    <tr style=\"text-align: right;\">\n",
              "      <th></th>\n",
              "      <th>title</th>\n",
              "      <th>description</th>\n",
              "      <th>essay</th>\n",
              "      <th>authors</th>\n",
              "      <th>genre</th>\n",
              "      <th>cw_text</th>\n",
              "      <th>num_tokens</th>\n",
              "      <th>philosophy_similarity</th>\n",
              "      <th>psychology_similarity</th>\n",
              "      <th>science_similarity</th>\n",
              "      <th>society_similarity</th>\n",
              "      <th>culture_similarity</th>\n",
              "    </tr>\n",
              "  </thead>\n",
              "  <tbody>\n",
              "    <tr>\n",
              "      <th>0</th>\n",
              "      <td>space exploration</td>\n",
              "      <td>when self-replicating craft bring life to the ...</td>\n",
              "      <td>some time late this century, someone will push...</td>\n",
              "      <td>Jay Olson</td>\n",
              "      <td>science</td>\n",
              "      <td>time late century push button unleashing life ...</td>\n",
              "      <td>1783</td>\n",
              "      <td>0.800169</td>\n",
              "      <td>0.814278</td>\n",
              "      <td>0.823928</td>\n",
              "      <td>0.852559</td>\n",
              "      <td>0.706126</td>\n",
              "    </tr>\n",
              "    <tr>\n",
              "      <th>1</th>\n",
              "      <td>history of science</td>\n",
              "      <td>to the detriment of the public, scientists and...</td>\n",
              "      <td>would boycotting russian scientists be an effe...</td>\n",
              "      <td>Lorraine Daston &amp; Peter Harrison</td>\n",
              "      <td>science</td>\n",
              "      <td>boycotting russian scientists effective protes...</td>\n",
              "      <td>1753</td>\n",
              "      <td>0.879167</td>\n",
              "      <td>0.853708</td>\n",
              "      <td>0.889465</td>\n",
              "      <td>0.922739</td>\n",
              "      <td>0.762675</td>\n",
              "    </tr>\n",
              "    <tr>\n",
              "      <th>2</th>\n",
              "      <td>religion</td>\n",
              "      <td>once a centre of afghan culture, sufism seems ...</td>\n",
              "      <td>my introduction into the world of afghanistanâ...</td>\n",
              "      <td>Annika Schmeding</td>\n",
              "      <td>society</td>\n",
              "      <td>introduction world afghanistanâs sufism bega...</td>\n",
              "      <td>2005</td>\n",
              "      <td>0.800258</td>\n",
              "      <td>0.799968</td>\n",
              "      <td>0.772903</td>\n",
              "      <td>0.876917</td>\n",
              "      <td>0.743235</td>\n",
              "    </tr>\n",
              "    <tr>\n",
              "      <th>3</th>\n",
              "      <td>thinkers and theories</td>\n",
              "      <td>the intrepid logician kurt gã¶del believed in ...</td>\n",
              "      <td>as the foremost logician of the 20th century, ...</td>\n",
              "      <td>Alexander T Englert</td>\n",
              "      <td>philosophy</td>\n",
              "      <td>foremost logician 20th century kurt gã¶del kno...</td>\n",
              "      <td>1938</td>\n",
              "      <td>0.877762</td>\n",
              "      <td>0.869903</td>\n",
              "      <td>0.859637</td>\n",
              "      <td>0.888094</td>\n",
              "      <td>0.729652</td>\n",
              "    </tr>\n",
              "    <tr>\n",
              "      <th>4</th>\n",
              "      <td>thinkers and theories</td>\n",
              "      <td>for rachel bespaloff, philosophy was a sensual...</td>\n",
              "      <td>shortly after rachel bespaloffâs suicide in ...</td>\n",
              "      <td>Isabel Jacobs</td>\n",
              "      <td>philosophy</td>\n",
              "      <td>shortly rachel bespaloffâs suicide 1949 frie...</td>\n",
              "      <td>1552</td>\n",
              "      <td>0.844727</td>\n",
              "      <td>0.849739</td>\n",
              "      <td>0.795693</td>\n",
              "      <td>0.849101</td>\n",
              "      <td>0.781565</td>\n",
              "    </tr>\n",
              "    <tr>\n",
              "      <th>...</th>\n",
              "      <td>...</td>\n",
              "      <td>...</td>\n",
              "      <td>...</td>\n",
              "      <td>...</td>\n",
              "      <td>...</td>\n",
              "      <td>...</td>\n",
              "      <td>...</td>\n",
              "      <td>...</td>\n",
              "      <td>...</td>\n",
              "      <td>...</td>\n",
              "      <td>...</td>\n",
              "      <td>...</td>\n",
              "    </tr>\n",
              "    <tr>\n",
              "      <th>2230</th>\n",
              "      <td>architecture</td>\n",
              "      <td>we can build structures that last for centurie...</td>\n",
              "      <td>make a model of the world in your mind. popula...</td>\n",
              "      <td>Marek Kohn</td>\n",
              "      <td>culture</td>\n",
              "      <td>model world mind populate starting people know...</td>\n",
              "      <td>724</td>\n",
              "      <td>0.771375</td>\n",
              "      <td>0.802616</td>\n",
              "      <td>0.806436</td>\n",
              "      <td>0.858646</td>\n",
              "      <td>0.712570</td>\n",
              "    </tr>\n",
              "    <tr>\n",
              "      <th>2231</th>\n",
              "      <td>human rights and justice</td>\n",
              "      <td>the ruling that anders breivik is sane leaves ...</td>\n",
              "      <td>anders behring breivik has been declared sane ...</td>\n",
              "      <td>Stephen Cave</td>\n",
              "      <td>society</td>\n",
              "      <td>anders behring breivik declared sane criminall...</td>\n",
              "      <td>704</td>\n",
              "      <td>0.814982</td>\n",
              "      <td>0.839365</td>\n",
              "      <td>0.760572</td>\n",
              "      <td>0.851410</td>\n",
              "      <td>0.686754</td>\n",
              "    </tr>\n",
              "    <tr>\n",
              "      <th>2232</th>\n",
              "      <td>demography and migration</td>\n",
              "      <td>despite its turmoil, ever more people are risk...</td>\n",
              "      <td>itâs 9.30pm and i am in a police station in ...</td>\n",
              "      <td>Helena Drysdale</td>\n",
              "      <td>society</td>\n",
              "      <td>itâs 9.30pm police station didimoticho greco...</td>\n",
              "      <td>988</td>\n",
              "      <td>0.603617</td>\n",
              "      <td>0.664191</td>\n",
              "      <td>0.662362</td>\n",
              "      <td>0.750466</td>\n",
              "      <td>0.621754</td>\n",
              "    </tr>\n",
              "    <tr>\n",
              "      <th>2233</th>\n",
              "      <td>ecology and environmental sciences</td>\n",
              "      <td>we picture ancient britain as a land of enchan...</td>\n",
              "      <td>as part of a recent walk across england, i ent...</td>\n",
              "      <td>Hugh Thomson</td>\n",
              "      <td>science</td>\n",
              "      <td>recent walk england entered chilterns western ...</td>\n",
              "      <td>647</td>\n",
              "      <td>0.683818</td>\n",
              "      <td>0.709500</td>\n",
              "      <td>0.743348</td>\n",
              "      <td>0.757175</td>\n",
              "      <td>0.697204</td>\n",
              "    </tr>\n",
              "    <tr>\n",
              "      <th>2234</th>\n",
              "      <td>art</td>\n",
              "      <td>as the boundaries between digital and physical...</td>\n",
              "      <td>shoreditch, east london, is home to a remarkab...</td>\n",
              "      <td>Will Wiles</td>\n",
              "      <td>culture</td>\n",
              "      <td>shoreditch east london home remarkable cluster...</td>\n",
              "      <td>1995</td>\n",
              "      <td>0.784165</td>\n",
              "      <td>0.792785</td>\n",
              "      <td>0.796601</td>\n",
              "      <td>0.823646</td>\n",
              "      <td>0.773688</td>\n",
              "    </tr>\n",
              "  </tbody>\n",
              "</table>\n",
              "<p>2235 rows × 12 columns</p>\n",
              "</div>"
            ],
            "text/plain": [
              "                                   title  \\\n",
              "0                      space exploration   \n",
              "1                     history of science   \n",
              "2                               religion   \n",
              "3                  thinkers and theories   \n",
              "4                  thinkers and theories   \n",
              "...                                  ...   \n",
              "2230                        architecture   \n",
              "2231            human rights and justice   \n",
              "2232            demography and migration   \n",
              "2233  ecology and environmental sciences   \n",
              "2234                                 art   \n",
              "\n",
              "                                            description  \\\n",
              "0     when self-replicating craft bring life to the ...   \n",
              "1     to the detriment of the public, scientists and...   \n",
              "2     once a centre of afghan culture, sufism seems ...   \n",
              "3     the intrepid logician kurt gã¶del believed in ...   \n",
              "4     for rachel bespaloff, philosophy was a sensual...   \n",
              "...                                                 ...   \n",
              "2230  we can build structures that last for centurie...   \n",
              "2231  the ruling that anders breivik is sane leaves ...   \n",
              "2232  despite its turmoil, ever more people are risk...   \n",
              "2233  we picture ancient britain as a land of enchan...   \n",
              "2234  as the boundaries between digital and physical...   \n",
              "\n",
              "                                                  essay  \\\n",
              "0     some time late this century, someone will push...   \n",
              "1     would boycotting russian scientists be an effe...   \n",
              "2     my introduction into the world of afghanistanâ...   \n",
              "3     as the foremost logician of the 20th century, ...   \n",
              "4     shortly after rachel bespaloffâs suicide in ...   \n",
              "...                                                 ...   \n",
              "2230  make a model of the world in your mind. popula...   \n",
              "2231  anders behring breivik has been declared sane ...   \n",
              "2232  itâs 9.30pm and i am in a police station in ...   \n",
              "2233  as part of a recent walk across england, i ent...   \n",
              "2234  shoreditch, east london, is home to a remarkab...   \n",
              "\n",
              "                               authors       genre  \\\n",
              "0                            Jay Olson     science   \n",
              "1     Lorraine Daston & Peter Harrison     science   \n",
              "2                     Annika Schmeding     society   \n",
              "3                  Alexander T Englert  philosophy   \n",
              "4                        Isabel Jacobs  philosophy   \n",
              "...                                ...         ...   \n",
              "2230                        Marek Kohn     culture   \n",
              "2231                      Stephen Cave     society   \n",
              "2232                   Helena Drysdale     society   \n",
              "2233                      Hugh Thomson     science   \n",
              "2234                        Will Wiles     culture   \n",
              "\n",
              "                                                cw_text  num_tokens  \\\n",
              "0     time late century push button unleashing life ...        1783   \n",
              "1     boycotting russian scientists effective protes...        1753   \n",
              "2     introduction world afghanistanâs sufism bega...        2005   \n",
              "3     foremost logician 20th century kurt gã¶del kno...        1938   \n",
              "4     shortly rachel bespaloffâs suicide 1949 frie...        1552   \n",
              "...                                                 ...         ...   \n",
              "2230  model world mind populate starting people know...         724   \n",
              "2231  anders behring breivik declared sane criminall...         704   \n",
              "2232  itâs 9.30pm police station didimoticho greco...         988   \n",
              "2233  recent walk england entered chilterns western ...         647   \n",
              "2234  shoreditch east london home remarkable cluster...        1995   \n",
              "\n",
              "      philosophy_similarity  psychology_similarity  science_similarity  \\\n",
              "0                  0.800169               0.814278            0.823928   \n",
              "1                  0.879167               0.853708            0.889465   \n",
              "2                  0.800258               0.799968            0.772903   \n",
              "3                  0.877762               0.869903            0.859637   \n",
              "4                  0.844727               0.849739            0.795693   \n",
              "...                     ...                    ...                 ...   \n",
              "2230               0.771375               0.802616            0.806436   \n",
              "2231               0.814982               0.839365            0.760572   \n",
              "2232               0.603617               0.664191            0.662362   \n",
              "2233               0.683818               0.709500            0.743348   \n",
              "2234               0.784165               0.792785            0.796601   \n",
              "\n",
              "      society_similarity  culture_similarity  \n",
              "0               0.852559            0.706126  \n",
              "1               0.922739            0.762675  \n",
              "2               0.876917            0.743235  \n",
              "3               0.888094            0.729652  \n",
              "4               0.849101            0.781565  \n",
              "...                  ...                 ...  \n",
              "2230            0.858646            0.712570  \n",
              "2231            0.851410            0.686754  \n",
              "2232            0.750466            0.621754  \n",
              "2233            0.757175            0.697204  \n",
              "2234            0.823646            0.773688  \n",
              "\n",
              "[2235 rows x 12 columns]"
            ]
          },
          "execution_count": 26,
          "metadata": {},
          "output_type": "execute_result"
        }
      ],
      "source": [
        "#Add similarity scorings to the original dataset as separate columns\n",
        "\n",
        "for genre in doc_similarity_scores:\n",
        "    # Create a new column in 'aeon' for each genre's similarity score\n",
        "    aeon[f'{genre}_similarity'] = doc_similarity_scores[genre]\n",
        "\n",
        "aeon"
      ]
    },
    {
      "cell_type": "markdown",
      "metadata": {},
      "source": [
        "### Data Analysis"
      ]
    },
    {
      "cell_type": "markdown",
      "metadata": {},
      "source": [
        "#### Data Visualization: Barplots of Mean Similarity Scores Across Genres"
      ]
    },
    {
      "cell_type": "code",
      "execution_count": 27,
      "metadata": {},
      "outputs": [
        {
          "name": "stderr",
          "output_type": "stream",
          "text": [
            "C:\\Users\\StarGazer\\AppData\\Local\\Packages\\PythonSoftwareFoundation.Python.3.11_qbz5n2kfra8p0\\LocalCache\\local-packages\\Python311\\site-packages\\seaborn\\axisgrid.py:854: FutureWarning: \n",
            "\n",
            "Passing `palette` without assigning `hue` is deprecated and will be removed in v0.14.0. Assign the `x` variable to `hue` and set `legend=False` for the same effect.\n",
            "\n",
            "  func(*plot_args, **plot_kwargs)\n",
            "C:\\Users\\StarGazer\\AppData\\Local\\Packages\\PythonSoftwareFoundation.Python.3.11_qbz5n2kfra8p0\\LocalCache\\local-packages\\Python311\\site-packages\\seaborn\\axisgrid.py:854: FutureWarning: \n",
            "\n",
            "Passing `palette` without assigning `hue` is deprecated and will be removed in v0.14.0. Assign the `x` variable to `hue` and set `legend=False` for the same effect.\n",
            "\n",
            "  func(*plot_args, **plot_kwargs)\n",
            "C:\\Users\\StarGazer\\AppData\\Local\\Packages\\PythonSoftwareFoundation.Python.3.11_qbz5n2kfra8p0\\LocalCache\\local-packages\\Python311\\site-packages\\seaborn\\axisgrid.py:854: FutureWarning: \n",
            "\n",
            "Passing `palette` without assigning `hue` is deprecated and will be removed in v0.14.0. Assign the `x` variable to `hue` and set `legend=False` for the same effect.\n",
            "\n",
            "  func(*plot_args, **plot_kwargs)\n",
            "C:\\Users\\StarGazer\\AppData\\Local\\Packages\\PythonSoftwareFoundation.Python.3.11_qbz5n2kfra8p0\\LocalCache\\local-packages\\Python311\\site-packages\\seaborn\\axisgrid.py:854: FutureWarning: \n",
            "\n",
            "Passing `palette` without assigning `hue` is deprecated and will be removed in v0.14.0. Assign the `x` variable to `hue` and set `legend=False` for the same effect.\n",
            "\n",
            "  func(*plot_args, **plot_kwargs)\n",
            "C:\\Users\\StarGazer\\AppData\\Local\\Packages\\PythonSoftwareFoundation.Python.3.11_qbz5n2kfra8p0\\LocalCache\\local-packages\\Python311\\site-packages\\seaborn\\axisgrid.py:854: FutureWarning: \n",
            "\n",
            "Passing `palette` without assigning `hue` is deprecated and will be removed in v0.14.0. Assign the `x` variable to `hue` and set `legend=False` for the same effect.\n",
            "\n",
            "  func(*plot_args, **plot_kwargs)\n",
            "C:\\Users\\StarGazer\\AppData\\Local\\Temp\\ipykernel_12520\\1429857125.py:34: UserWarning: set_ticklabels() should only be used with a fixed number of ticks, i.e. after set_ticks() or using a FixedLocator.\n",
            "  ax.set_xticklabels(ax.get_xticklabels(), rotation=45)\n",
            "C:\\Users\\StarGazer\\AppData\\Local\\Temp\\ipykernel_12520\\1429857125.py:34: UserWarning: set_ticklabels() should only be used with a fixed number of ticks, i.e. after set_ticks() or using a FixedLocator.\n",
            "  ax.set_xticklabels(ax.get_xticklabels(), rotation=45)\n",
            "C:\\Users\\StarGazer\\AppData\\Local\\Temp\\ipykernel_12520\\1429857125.py:34: UserWarning: set_ticklabels() should only be used with a fixed number of ticks, i.e. after set_ticks() or using a FixedLocator.\n",
            "  ax.set_xticklabels(ax.get_xticklabels(), rotation=45)\n",
            "C:\\Users\\StarGazer\\AppData\\Local\\Temp\\ipykernel_12520\\1429857125.py:34: UserWarning: set_ticklabels() should only be used with a fixed number of ticks, i.e. after set_ticks() or using a FixedLocator.\n",
            "  ax.set_xticklabels(ax.get_xticklabels(), rotation=45)\n",
            "C:\\Users\\StarGazer\\AppData\\Local\\Temp\\ipykernel_12520\\1429857125.py:34: UserWarning: set_ticklabels() should only be used with a fixed number of ticks, i.e. after set_ticks() or using a FixedLocator.\n",
            "  ax.set_xticklabels(ax.get_xticklabels(), rotation=45)\n"
          ]
        },
        {
          "data": {
            "text/plain": [
              "<Figure size 1400x800 with 0 Axes>"
            ]
          },
          "metadata": {},
          "output_type": "display_data"
        },
        {
          "data": {
            "image/png": "[encoded data removed]",
            "text/plain": [
              "<Figure size 1200x800 with 5 Axes>"
            ]
          },
          "metadata": {},
          "output_type": "display_data"
        }
      ],
      "source": [
        "import pandas as pd\n",
        "import matplotlib.pyplot as plt\n",
        "import seaborn as sns\n",
        "\n",
        "# List of genres\n",
        "genres = ['philosophy', 'psychology', 'science', 'society', 'culture']\n",
        "\n",
        "# Calculate average similarity scores for each genre pair and reshape the data for plotting\n",
        "data_for_plotting = []\n",
        "\n",
        "for target_genre in genres:\n",
        "    # For each target genre, calculate the mean similarity score across essays of each actual genre\n",
        "    for actual_genre in genres:\n",
        "        mean_score = aeon[aeon['genre'] == actual_genre][f'{target_genre}_similarity'].mean()\n",
        "        data_for_plotting.append({'Actual Genre': actual_genre, \n",
        "                                  'Target Genre': target_genre, \n",
        "                                  'Average Similarity Score': mean_score})\n",
        "\n",
        "# Convert the list of dictionaries into a DataFrame\n",
        "reshaped_data = pd.DataFrame(data_for_plotting)\n",
        "\n",
        "# Plotting\n",
        "plt.figure(figsize=(14, 8))\n",
        "\n",
        "# Using seaborn's FacetGrid to create one plot for each 'Target Genre'\n",
        "g = sns.FacetGrid(reshaped_data, col=\"Target Genre\", col_wrap=3, sharex=False, sharey=True, height=4)\n",
        "g.map(sns.barplot, \"Actual Genre\", \"Average Similarity Score\", order=genres, palette=\"Set2\")\n",
        "\n",
        "# Adjust the labels and titles\n",
        "for ax, title in zip(g.axes.flatten(), genres):\n",
        "    ax.set_title(f'Target: {title.capitalize()}')\n",
        "    ax.set_xlabel('Essay Genre')\n",
        "    ax.set_ylabel('Avg Similarity Score')\n",
        "    ax.set_xticklabels(ax.get_xticklabels(), rotation=45)\n",
        "\n",
        "plt.tight_layout()\n",
        "plt.show()\n"
      ]
    },
    {
      "cell_type": "code",
      "execution_count": 88,
      "metadata": {},
      "outputs": [],
      "source": [
        "import pandas as pd\n",
        "from scipy.stats import f_oneway\n",
        "from statsmodels.stats.multicomp import pairwise_tukeyhsd\n"
      ]
    },
    {
      "cell_type": "code",
      "execution_count": 89,
      "metadata": {},
      "outputs": [
        {
          "name": "stdout",
          "output_type": "stream",
          "text": [
            "ANOVA results for target genre philosophy: F-stat=105.1712, P-value=0.0000\n",
            "Tukey's post-hoc test for philosophy:\n",
            "    Multiple Comparison of Means - Tukey HSD, FWER=0.05     \n",
            "============================================================\n",
            "  group1     group2   meandiff p-adj   lower   upper  reject\n",
            "------------------------------------------------------------\n",
            "   culture philosophy   0.0481    0.0  0.0373   0.059   True\n",
            "   culture psychology   0.0134  0.007  0.0025  0.0243   True\n",
            "   culture    science  -0.0154 0.0013 -0.0265 -0.0044   True\n",
            "   culture    society  -0.0052 0.6341 -0.0154   0.005  False\n",
            "philosophy psychology  -0.0347    0.0  -0.044 -0.0254   True\n",
            "philosophy    science  -0.0636    0.0 -0.0731 -0.0541   True\n",
            "philosophy    society  -0.0533    0.0 -0.0619 -0.0448   True\n",
            "psychology    science  -0.0289    0.0 -0.0385 -0.0193   True\n",
            "psychology    society  -0.0186    0.0 -0.0273   -0.01   True\n",
            "   science    society   0.0102 0.0137  0.0014  0.0191   True\n",
            "------------------------------------------------------------\n",
            "ANOVA results for target genre psychology: F-stat=127.0818, P-value=0.0000\n",
            "Tukey's post-hoc test for psychology:\n",
            "    Multiple Comparison of Means - Tukey HSD, FWER=0.05     \n",
            "============================================================\n",
            "  group1     group2   meandiff p-adj   lower   upper  reject\n",
            "------------------------------------------------------------\n",
            "   culture philosophy   0.0339    0.0  0.0247   0.043   True\n",
            "   culture psychology   0.0395    0.0  0.0302  0.0487   True\n",
            "   culture    science   -0.009   0.07 -0.0183  0.0004  False\n",
            "   culture    society  -0.0053  0.452  -0.014  0.0034  False\n",
            "philosophy psychology   0.0056 0.3023 -0.0023  0.0135  False\n",
            "philosophy    science  -0.0428    0.0 -0.0509 -0.0347   True\n",
            "philosophy    society  -0.0392    0.0 -0.0464 -0.0319   True\n",
            "psychology    science  -0.0484    0.0 -0.0566 -0.0402   True\n",
            "psychology    society  -0.0448    0.0 -0.0521 -0.0374   True\n",
            "   science    society   0.0036 0.6762 -0.0039  0.0111  False\n",
            "------------------------------------------------------------\n",
            "ANOVA results for target genre science: F-stat=65.6637, P-value=0.0000\n",
            "Tukey's post-hoc test for science:\n",
            "    Multiple Comparison of Means - Tukey HSD, FWER=0.05     \n",
            "============================================================\n",
            "  group1     group2   meandiff p-adj   lower   upper  reject\n",
            "------------------------------------------------------------\n",
            "   culture philosophy   0.0308    0.0  0.0213  0.0404   True\n",
            "   culture psychology   0.0183    0.0  0.0087  0.0279   True\n",
            "   culture    science   0.0472    0.0  0.0374  0.0569   True\n",
            "   culture    society   0.0091 0.0442  0.0001  0.0182   True\n",
            "philosophy psychology  -0.0126 0.0003 -0.0208 -0.0044   True\n",
            "philosophy    science   0.0163    0.0   0.008  0.0247   True\n",
            "philosophy    society  -0.0217    0.0 -0.0292 -0.0142   True\n",
            "psychology    science   0.0289    0.0  0.0205  0.0374   True\n",
            "psychology    society  -0.0091 0.0096 -0.0167 -0.0015   True\n",
            "   science    society   -0.038    0.0 -0.0458 -0.0302   True\n",
            "------------------------------------------------------------\n",
            "ANOVA results for target genre society: F-stat=66.1454, P-value=0.0000\n",
            "Tukey's post-hoc test for society:\n",
            "    Multiple Comparison of Means - Tukey HSD, FWER=0.05     \n",
            "============================================================\n",
            "  group1     group2   meandiff p-adj   lower   upper  reject\n",
            "------------------------------------------------------------\n",
            "   culture philosophy   0.0402    0.0    0.03  0.0505   True\n",
            "   culture psychology   0.0153 0.0005   0.005  0.0257   True\n",
            "   culture    science   0.0135 0.0039  0.0031   0.024   True\n",
            "   culture    society   0.0453    0.0  0.0356   0.055   True\n",
            "philosophy psychology  -0.0249    0.0 -0.0338 -0.0161   True\n",
            "philosophy    science  -0.0267    0.0 -0.0357 -0.0177   True\n",
            "philosophy    society   0.0051 0.4215  -0.003  0.0132  False\n",
            "psychology    science  -0.0018 0.9835 -0.0109  0.0073  False\n",
            "psychology    society     0.03    0.0  0.0218  0.0382   True\n",
            "   science    society   0.0318    0.0  0.0234  0.0402   True\n",
            "------------------------------------------------------------\n",
            "ANOVA results for target genre culture: F-stat=66.5570, P-value=0.0000\n",
            "Tukey's post-hoc test for culture:\n",
            "    Multiple Comparison of Means - Tukey HSD, FWER=0.05     \n",
            "============================================================\n",
            "  group1     group2   meandiff p-adj   lower   upper  reject\n",
            "------------------------------------------------------------\n",
            "   culture philosophy  -0.0311    0.0  -0.039 -0.0231   True\n",
            "   culture psychology  -0.0378    0.0 -0.0458 -0.0298   True\n",
            "   culture    science  -0.0452    0.0 -0.0533 -0.0371   True\n",
            "   culture    society  -0.0381    0.0 -0.0456 -0.0306   True\n",
            "philosophy psychology  -0.0068 0.0551 -0.0136  0.0001  False\n",
            "philosophy    science  -0.0141    0.0 -0.0211 -0.0072   True\n",
            "philosophy    society   -0.007 0.0189 -0.0133 -0.0008   True\n",
            "psychology    science  -0.0074 0.0339 -0.0144 -0.0004   True\n",
            "psychology    society  -0.0003    1.0 -0.0066  0.0061  False\n",
            "   science    society   0.0071 0.0225  0.0007  0.0136   True\n",
            "------------------------------------------------------------\n"
          ]
        }
      ],
      "source": [
        "# List of all genres\n",
        "genres = ['philosophy', 'psychology', 'science', 'society', 'culture']\n",
        "\n",
        "# Dictionary to store ANOVA results\n",
        "anova_results = {}\n",
        "\n",
        "for target_genre in genres:\n",
        "    # Collect data for ANOVA\n",
        "    data = [aeon[aeon['genre'] == genre][f'{target_genre}_similarity'] for genre in genres]\n",
        "    \n",
        "    # Perform ANOVA\n",
        "    f_stat, p_value = f_oneway(*data)\n",
        "    anova_results[target_genre] = (f_stat, p_value)\n",
        "\n",
        "    # Output ANOVA results\n",
        "    print(f\"ANOVA results for target genre {target_genre}: F-stat={f_stat:.4f}, P-value={p_value:.4f}\")\n",
        "\n",
        "    # If p-value indicates significance, proceed to post-hoc tests\n",
        "    if p_value < 0.05:\n",
        "        # Conduct Tukey's HSD test\n",
        "        tukey = pairwise_tukeyhsd(endog=aeon[f'{target_genre}_similarity'],\n",
        "                                  groups=aeon['genre'],\n",
        "                                  alpha=0.05)\n",
        "        print(f\"Tukey's post-hoc test for {target_genre}:\\n{tukey}\")\n"
      ]
    },
    {
      "cell_type": "markdown",
      "metadata": {},
      "source": [
        "### Interpretations:\n",
        "The statistical analysis conducted through independent t-tests comparing the average semantic similarity scores between genres reveals highly significant differences, demonstrating that essays tend to be more similar within their own genre compared to others. Notably, every comparison involving philosophy, psychology, science, and culture with other genres showed significant results with extremely low original and adjusted p-values, indicating robust statistical significance even after adjusting for multiple comparisons using the Bonferroni method.\n",
        "\n",
        "Specifically, the comparisons where philosophy is compared against psychology, science, society, and culture yield very high t-statistics ranging from 10.93 to 18.09, all with p-values effectively at zero, even after adjustment. This indicates a strong and significant difference in similarity scores, with philosophy essays being considerably more similar to each other than to essays from other genres.\n",
        "\n",
        "Similarly, the tests involving psychology, science, and culture against other genres also show substantial t-values and negligible p-values, reinforcing the distinctiveness of essays within these genres as well. For example, psychology's comparison against science and society yielded t-values of 15.29 and 16.95 respectively, both with zero p-values after adjustment.\n",
        "\n",
        "However, the comparisons involving society show a slightly different pattern. While most comparisons are still significant, the comparison of society vs philosophy and society vs culture shows adjusted p-values that exceed the significance threshold (p=1.000 and p=0.000, respectively), suggesting that while there is a detectable difference, it may not be as pronounced or statistically significant as those involving other genres, especially after adjustment for multiple testing.\n",
        "\n",
        "This pattern strongly supports the hypothesis that essays are more semantically similar within their own genres than across different genres, with substantial statistical backing across most genre pairings. This distinctiveness in semantic content could potentially be leveraged in genre classification algorithms, enhancing their accuracy and effectiveness."
      ]
    },
    {
      "cell_type": "markdown",
      "metadata": {},
      "source": [
        "### Interpretations\n",
        "1. Overall, an Essay genre will have the highest averaged similarity score for their according genre (e.g. Philosophy Essays have highest averaged Philosophy similarity score). This is **consistent with our prediction**.\n",
        "2. Philosophy Essays also scores high in averaged Psychology and Society similarity, suggesting potential overlaps between topics.\n"
      ]
    },
    {
      "cell_type": "markdown",
      "metadata": {},
      "source": [
        "## Third Analysis: Model Training and Accuracy"
      ]
    },
    {
      "cell_type": "markdown",
      "metadata": {},
      "source": [
        "#### Resample the dataset\n",
        "\n",
        "To ensure the accuracy of training model and address any potential imbalanced representation of features, the dataset is sampled to ensure that each genre has the same sample size.\n",
        "\n",
        "Consider that Culture genre has only 265 essays, other genres are resampled to contain 265 essays each.\n"
      ]
    },
    {
      "cell_type": "code",
      "execution_count": 30,
      "metadata": {},
      "outputs": [
        {
          "name": "stdout",
          "output_type": "stream",
          "text": [
            "genre\n",
            "philosophy    265\n",
            "psychology    265\n",
            "science       265\n",
            "society       265\n",
            "culture       265\n",
            "Name: count, dtype: int64\n"
          ]
        }
      ],
      "source": [
        "# Sample 265 essays from each genre\n",
        "sampled_df = pd.DataFrame()\n",
        "\n",
        "genres = ['philosophy', 'psychology', 'science', 'society', 'culture']\n",
        "\n",
        "for genre in genres:\n",
        "    # Sample 265 entries from each genre, if there are fewer than 265, take all\n",
        "    sampled_sub_df = aeon[aeon['genre'] == genre].sample(n=265, replace=False, random_state=42)\n",
        "    sampled_df = pd.concat([sampled_df, sampled_sub_df])\n",
        "\n",
        "# Reset index of the resulting DataFrame\n",
        "sampled_df = sampled_df.reset_index(drop=True)\n",
        "\n",
        "print(sampled_df[\"genre\"].value_counts()) # Check the number of essays in each genre"
      ]
    },
    {
      "cell_type": "markdown",
      "metadata": {},
      "source": [
        "#### Build up Machine Learning Pipeline"
      ]
    },
    {
      "cell_type": "code",
      "execution_count": 31,
      "metadata": {},
      "outputs": [
        {
          "data": {
            "text/plain": [
              "(265,)"
            ]
          },
          "execution_count": 31,
          "metadata": {},
          "output_type": "execute_result"
        }
      ],
      "source": [
        "# Features\n",
        "X = sampled_df[['philosophy_similarity', 'psychology_similarity', 'science_similarity', 'society_similarity', 'culture_similarity']]\n",
        "\n",
        "# Target\n",
        "y = sampled_df['genre']\n",
        "from sklearn.preprocessing import LabelEncoder\n",
        "\n",
        "encoder = LabelEncoder()\n",
        "y_encoded = encoder.fit_transform(y) #Fit into the model\n",
        "from sklearn.model_selection import train_test_split\n",
        "\n",
        "X_train, X_test, y_train, y_test = train_test_split(X, y_encoded, test_size=0.2, random_state=42) #Train the model with existing data\n",
        "y_test.shape"
      ]
    },
    {
      "cell_type": "code",
      "execution_count": 32,
      "metadata": {},
      "outputs": [
        {
          "name": "stdout",
          "output_type": "stream",
          "text": [
            "Accuracy: 0.5735849056603773\n",
            "\n",
            "Classification Report:\n",
            "               precision    recall  f1-score   support\n",
            "\n",
            "     culture       0.63      0.68      0.65        53\n",
            "  philosophy       0.42      0.71      0.53        51\n",
            "  psychology       0.71      0.39      0.51        56\n",
            "     science       0.55      0.63      0.59        49\n",
            "     society       0.77      0.48      0.59        56\n",
            "\n",
            "    accuracy                           0.57       265\n",
            "   macro avg       0.62      0.58      0.57       265\n",
            "weighted avg       0.62      0.57      0.57       265\n",
            "\n"
          ]
        }
      ],
      "source": [
        "from sklearn.linear_model import LogisticRegression\n",
        "from sklearn.metrics import accuracy_score, confusion_matrix, classification_report #Generate accuracy scoring\n",
        "\n",
        "# Initialize the classifier\n",
        "clf = LogisticRegression()\n",
        "\n",
        "# Train the classifier\n",
        "clf.fit(X_train, y_train)\n",
        "\n",
        "# Predict on the test set\n",
        "y_pred = clf.predict(X_test)\n",
        "\n",
        "# Evaluate the classifier\n",
        "print(\"Accuracy:\", accuracy_score(y_test, y_pred))\n",
        "print(\"\\nClassification Report:\\n\", classification_report(y_test, y_pred, target_names=encoder.classes_))\n"
      ]
    },
    {
      "cell_type": "markdown",
      "metadata": {},
      "source": [
        "#### Interpretations:\n",
        "1. With an accuracy score of 0.57, the model correctly predicts the genre for a little over half of the essays in the test set.\n",
        "2. Weighted Average of 0.62 precision, 0.57 recall, and 0.57 F1-score suggests a moderate performances of classification without biases toward a particular genre\n",
        "\n",
        "**Still rooms for potential improvements!**"
      ]
    },
    {
      "cell_type": "markdown",
      "metadata": {},
      "source": [
        "### Interpretations for Logistic Coefficients\n"
      ]
    },
    {
      "cell_type": "code",
      "execution_count": 33,
      "metadata": {},
      "outputs": [
        {
          "name": "stdout",
          "output_type": "stream",
          "text": [
            "                variable  coef_culture  coef_philosophy  coef_psychology  \\\n",
            "0  philosophy_similarity     -0.392003         4.808420         0.173452   \n",
            "1  psychology_similarity     -0.847309         1.972711         4.350781   \n",
            "2     science_similarity     -2.626987        -0.056636        -0.536690   \n",
            "3     society_similarity     -2.714975         1.109231        -1.668379   \n",
            "4     culture_similarity      5.380428        -1.204692        -1.025601   \n",
            "\n",
            "   coef_science  coef_society  \n",
            "0     -3.386562     -1.203306  \n",
            "1     -3.081697     -2.394487  \n",
            "2      4.914241     -1.693927  \n",
            "3     -1.219617      4.493740  \n",
            "4     -2.326307     -0.823828  \n"
          ]
        }
      ],
      "source": [
        "import pandas as pd\n",
        "\n",
        "# Mapping encoded labels back to original genre names\n",
        "genre_names = encoder.inverse_transform(clf.classes_)\n",
        "\n",
        "# Create a DataFrame for coefficients for better readability\n",
        "\n",
        "coefs_df_list = []\n",
        "for i, genre_name in enumerate(genre_names):\n",
        "    coefs_df = pd.DataFrame({'variable': clf.feature_names_in_,\n",
        "                             f'coef_{genre_name}': clf.coef_[i]}) \n",
        "    coefs_df_list.append(coefs_df)\n",
        "\n",
        "full_coefs_df = pd.concat(coefs_df_list, axis=1)\n",
        "\n",
        "# Removing duplicate 'variable' columns after concatenation\n",
        "full_coefs_df = full_coefs_df.loc[:,~full_coefs_df.columns.duplicated()]\n",
        "print(full_coefs_df)\n"
      ]
    },
    {
      "cell_type": "markdown",
      "metadata": {},
      "source": [
        "#### Interpretations\n",
        "1. The coefficients represents how changes in the similarity scores influence the likelihood of an essay being classified into that genre.\n",
        "2. Overall, likelihood of classification is strongly positively associated with similarity score of its own genre, this is align with our hypothesis that **similarity score can be used to predict genre classification for Aeon Essays**.\n",
        "3. Philosophy genre has positive coefficients for psychology and society similarities, but this effect is not shown for Psychology and Society genres. This suggests that essays with higher psychology and society similarity also has increased likelihood for being a Philosophy essay, but not vice versa.\n",
        "4. Culture similarity has the highest positive coefficient for predicting culture genre likelihood, suggesting that similarity to culture genre is the strongest predictor of culture genre classification. This might be linked with the effect that culture subtopics has the lowest within and across genre subtopic similarities - these subtopics might be more \"unique\" than the other genres."
      ]
    },
    {
      "cell_type": "markdown",
      "metadata": {},
      "source": [
        "## Visualization: Confusion Matrix for Logistic Regression\n"
      ]
    },
    {
      "cell_type": "code",
      "execution_count": 34,
      "metadata": {},
      "outputs": [
        {
          "data": {
            "image/png": "[encoded data removed]",
            "text/plain": [
              "<Figure size 1000x700 with 1 Axes>"
            ]
          },
          "metadata": {},
          "output_type": "display_data"
        }
      ],
      "source": [
        "import matplotlib.pyplot as plt\n",
        "import seaborn as sns; sns.set()\n",
        "\n",
        "# Compute confusion matrix\n",
        "mat = confusion_matrix(y_test, y_pred)\n",
        "\n",
        "# Plot confusion matrix\n",
        "plt.figure(figsize=(10, 7))\n",
        "sns.heatmap(mat.T, square=True, annot=True, fmt='d', cbar=False,\n",
        "            xticklabels=encoder.classes_,\n",
        "            yticklabels=encoder.classes_)\n",
        "plt.xlabel('true label')\n",
        "plt.ylabel('predicted label')\n",
        "plt.title('Confusion Matrix')\n",
        "plt.show()\n"
      ]
    },
    {
      "cell_type": "markdown",
      "metadata": {},
      "source": [
        "1. Overall correct predictions are high, suggesting good accuracy\n",
        "2. Psychology and Society (and Science) essays has high instances of be misclassified under Philosophy genre (consistent with the coefficient analysis)"
      ]
    },
    {
      "cell_type": "markdown",
      "metadata": {},
      "source": [
        "### Alternative: SVC for Training and Confusion Matrix"
      ]
    },
    {
      "cell_type": "code",
      "execution_count": 35,
      "metadata": {},
      "outputs": [
        {
          "name": "stdout",
          "output_type": "stream",
          "text": [
            "Accuracy: 0.630188679245283\n",
            "\n",
            "Classification Report:\n",
            "               precision    recall  f1-score   support\n",
            "\n",
            "     culture       0.61      0.75      0.67        53\n",
            "  philosophy       0.69      0.61      0.65        51\n",
            "  psychology       0.62      0.61      0.61        56\n",
            "     science       0.56      0.63      0.60        49\n",
            "     society       0.70      0.55      0.62        56\n",
            "\n",
            "    accuracy                           0.63       265\n",
            "   macro avg       0.64      0.63      0.63       265\n",
            "weighted avg       0.64      0.63      0.63       265\n",
            "\n"
          ]
        }
      ],
      "source": [
        "from sklearn.svm import SVC\n",
        "clg = SVC()\n",
        "\n",
        "# Train the classifier\n",
        "clg.fit(X_train, y_train)\n",
        "\n",
        "# Predict on the test set\n",
        "y_pred_svc = clg.predict(X_test)\n",
        "\n",
        "# Evaluate the classifier\n",
        "print(\"Accuracy:\", accuracy_score(y_test, y_pred_svc))\n",
        "print(\"\\nClassification Report:\\n\", classification_report(y_test, y_pred_svc, target_names=encoder.classes_))"
      ]
    },
    {
      "cell_type": "code",
      "execution_count": 36,
      "metadata": {},
      "outputs": [
        {
          "data": {
            "image/png": "[encoded data removed]",
            "text/plain": [
              "<Figure size 1000x700 with 1 Axes>"
            ]
          },
          "metadata": {},
          "output_type": "display_data"
        }
      ],
      "source": [
        "import matplotlib.pyplot as plt\n",
        "import seaborn as sns; sns.set()\n",
        "\n",
        "# Compute confusion matrix\n",
        "mat = confusion_matrix(y_test, y_pred_svc)\n",
        "\n",
        "# Plot confusion matrix\n",
        "plt.figure(figsize=(10, 7))\n",
        "sns.heatmap(mat.T, square=True, annot=True, fmt='d', cbar=False,\n",
        "            xticklabels=encoder.classes_,\n",
        "            yticklabels=encoder.classes_)\n",
        "plt.xlabel('true label')\n",
        "plt.ylabel('predicted label')\n",
        "plt.title('Confusion Matrix')\n",
        "plt.show()\n"
      ]
    },
    {
      "cell_type": "markdown",
      "metadata": {},
      "source": [
        "#### Interpretations\n",
        "SVC (Support Vector Classifier) is performing much better in prediction than Logistic Regression. However, given the complex decision-making process of SVC, the coefficients are not as easily interpretable as that of logistic regression, making it not suitable for explaning variabilities in variables for data analysis.\n"
      ]
    },
    {
      "cell_type": "markdown",
      "metadata": {},
      "source": [
        "## Discussion\n"
      ]
    },
    {
      "cell_type": "markdown",
      "metadata": {},
      "source": [
        "### General Conclusions\n",
        "\n",
        "**RQ1-Subtopic Similarities**: While Culture genre has the most unique subtopics (across all subtopics), there are moderate similarities both within and between genres, suggesting a general similarity for all subtopics regardless of genre.\n",
        "\n",
        "**RQ2-Genre Similarities**:Essays have highest similarity scores of their own genres\n",
        "\n",
        "**RQ3-Model Prediction**:Machine learning model can be established to predict text genre with moderate accuracy. Misspecification is least for Culture genre and most likely for Psychology and Society genre (being misclassified as Philosophy)."
      ]
    },
    {
      "cell_type": "markdown",
      "metadata": {},
      "source": [
        "### Limitations\n",
        "* While the variability of Essay length across genre is being addressed (not significant according to violin graph), the **imbalanced sample size** across the five genres for both essays and subtopics might cause biases in the variations in the averaged similarity scores. Given Culture genre has the smallest sample size in the original data, this might be attributable to its pronounced deviation in variables.\n",
        "* The sorted out content word entries still contains **Noises** (e.g. typos and random signs), which can reduce the quality of similarity analysis and model training.\n",
        "* Other factors that might mediate genre similarity, such as **Author information** (whether or not Essays are written by the same author) might be addressed.\n",
        "* The **publication time** of the essays is not presented in the dataset, so that the longitudinal variability in language styles of the essays are not accounted for.\n",
        "* Other features (TF-IDF, NER, etc.) might be incorporated to improve model performances\n",
        "\n"
      ]
    },
    {
      "cell_type": "markdown",
      "metadata": {},
      "source": [
        "\n",
        "### Future studies\n",
        "* Incorporate the subtopic and essay analysis together: hierarchial analysis, joint feature space, etc.\n",
        "* Improve the model by incorporating more features and adapt alternative algorithms\n",
        "* Examine the semantic similarity between description (the short introductory sentence) \n",
        "* Account for the longitudinal variations in linguistic features of Essays (given available data)"
      ]
    },
    {
      "cell_type": "markdown",
      "metadata": {},
      "source": [
        "## References\n",
        "About. (n.d.). Aeon. Retrieved February 29, 2024, from https://aeon.co/about\n",
        "\n",
        "DataCamp. (2019, Dec). Understanding logistic regression in Python. Retrieved from https://www.datacamp.com/tutorial/understanding-logistic-regression-python\n",
        "\n",
        "Zhang, P. Y. (2013). The application of semantic similarity in text classification. Applied Mechanics and Materials, 346, 141–144. https://doi.org/10.4028/www.scientific.net/AMM.346.141\n",
        "\n",
        "Rezapour Asheghi, N. (2015). Human annotation and automatic detection of web genres (Doctoral dissertation, University of Leeds).\n",
        "\n",
        "Nauer, E., & Napoli, A. (2006). A proposal for annotation, semantic similarity and classification of textual documents. In Artificial Intelligence: Methodology, Systems, and Applications: 12th International Conference, AIMSA 2006, Varna, Bulgaria, September 12-15, 2006. Proceedings 12 (pp. 201-212). Springer Berlin Heidelberg.\n",
        "\n",
        "Lee, Y. B., & Myaeng, S. H. (2002, August). Text genre classification with genre-revealing and subject-revealing features. In Proceedings of the 25th annual international ACM SIGIR conference on Research and development in information retrieval (pp. 145-150).\n"
      ]
    }
  ],
  "metadata": {
    "colab": {
      "provenance": []
    },
    "kernelspec": {
      "display_name": "Python 3",
      "name": "python3"
    },
    "language_info": {
      "codemirror_mode": {
        "name": "ipython",
        "version": 3
      },
      "file_extension": ".py",
      "mimetype": "text/x-python",
      "name": "python",
      "nbconvert_exporter": "python",
      "pygments_lexer": "ipython3",
      "version": "3.11.9"
    }
  },
  "nbformat": 4,
  "nbformat_minor": 0
}
